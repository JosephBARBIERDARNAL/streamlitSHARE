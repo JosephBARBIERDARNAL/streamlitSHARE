{
 "cells": [
  {
   "cell_type": "markdown",
   "id": "b124b40d-ea76-4c38-adaa-aee705694891",
   "metadata": {},
   "source": [
    "# Function that open all files of a given wave at a time"
   ]
  },
  {
   "cell_type": "code",
   "execution_count": 47,
   "id": "b26e66e5-fae3-4d0b-9400-32aeb10b9580",
   "metadata": {},
   "outputs": [],
   "source": [
    "import pandas as pd\n",
    "from tqdm import tqdm\n",
    "import numpy as np"
   ]
  },
  {
   "cell_type": "code",
   "execution_count": 16,
   "id": "188e25ff-b87f-4fa4-9d1a-2e9e5dcf21c8",
   "metadata": {},
   "outputs": [],
   "source": [
    "def open_wave(wave_index):\n",
    "    \n",
    "    #create a list of files name\n",
    "    prefixes_files_name = ['ac', 'as', 'ax', 'br', 'cc', 'cf', 'ch', 'co',\n",
    "                           'cs', 'dn', 'dq', 'ep', 'ex', 'fs', 'ft',\n",
    "                           'gl', 'gs', 'gs', 'gv_big5', 'gv_children',\n",
    "                           'gv_health', 'gv_housing', 'gv_isced', 'gv_isco',\n",
    "                           'gv_networks', 'gv_weights', 'gvgrossnet', 'hc', 'hh',\n",
    "                           'ho', 'it', 'mh', 'pf', 'ph', 'ra', 'rc', 're',\n",
    "                           'rp', 'sp', 'sr', 'st', 'te', 'tv', 'wq', 'ws', 'xt']\n",
    "    fileList = [f\"sharew{wave_index}_rel8-0-0_{i}.dta\" for i in prefixes_files_name]\n",
    "    \n",
    "    #read all df\n",
    "    dfList = []\n",
    "    for file in fileList:\n",
    "        try:\n",
    "            thisDF = pd.read_stata(f\"wave{wave_index}/{file}\", convert_categoricals=False)\n",
    "            dfList.append(thisDF)\n",
    "        except FileNotFoundError:\n",
    "            pass\n",
    "\n",
    "    #merge all df\n",
    "    data = thisDF[\"mergeid\"]\n",
    "    for i in tqdm(range(len(dfList))):\n",
    "        data = pd.merge(data, dfList[i], how='outer')\n",
    "    \n",
    "    #return the all\n",
    "    return data\n",
    "\n",
    "\n",
    "#merge and save all data\n",
    "\n",
    "wave1 = open_wave(1)\n",
    "wave1.to_csv('wave1.csv', index=False)\n",
    "\n",
    "wave2 = open_wave(2)\n",
    "wave2.to_csv('wave2.csv', index=False)\n",
    "\n",
    "wave3 = open_wave(3)\n",
    "wave3.to_csv('wave3.csv', index=False)\n",
    "\n",
    "wave4 = open_wave(4)\n",
    "wave4.to_csv('wave4.csv', index=False)\n",
    "\n",
    "wave5 = open_wave(5)\n",
    "wave5.to_csv('wave5.csv', index=False)\n",
    "\n",
    "wave6 = open_wave(6)\n",
    "wave6.to_csv('wave6.csv', index=False)\n",
    "\n",
    "wave7 = open_wave(7)\n",
    "wave7.to_csv('wave7.csv', index=False)\n",
    "\n",
    "wave8 = open_wave(8)\n",
    "wave8.to_csv('wave8.csv', index=False)"
   ]
  },
  {
   "cell_type": "markdown",
   "id": "25aadfcc-def3-469d-b369-30b2bfafd3fc",
   "metadata": {},
   "source": [
    "# Function that computes mean, sd and median for all quantitative variables"
   ]
  },
  {
   "cell_type": "code",
   "execution_count": 169,
   "id": "9b5d26ec-89a1-4c06-8d34-212e0c581b64",
   "metadata": {},
   "outputs": [],
   "source": [
    "def compute_stats(dataframe, wave):\n",
    "    \n",
    "    wave = str(wave)\n",
    "    \n",
    "    df = dataframe.copy()\n",
    "    variable = list(df.columns)\n",
    "\n",
    "    #init lists to fill in\n",
    "    mean = []\n",
    "    sd = []\n",
    "    median = []\n",
    "    var_name = []\n",
    "    \n",
    "    for var in variable:\n",
    "        \n",
    "        #compute mean, sd and median for all quant variables\n",
    "        df[var] = pd.to_numeric(df[var], errors='coerce')\n",
    "        mean.append(df[var].mean())\n",
    "        sd.append(df[var].std())\n",
    "        median.append(df[var].median())\n",
    "        var_name.append(var+\"_\"+wave)\n",
    "        \n",
    "    #concatenate all lists and name columns\n",
    "    features = {'Var_name': var_name,\n",
    "                'Mean': mean, \n",
    "                'Std': sd, \n",
    "                'Median': median} \n",
    "    df_to_return = pd.DataFrame(features, columns= ['Var_name','Mean','Std','Median'])\n",
    "    df_to_return = df_to_return.dropna(axis=0)\n",
    "    \n",
    "    return df_to_return"
   ]
  },
  {
   "cell_type": "code",
   "execution_count": 170,
   "id": "00ca4142-c62c-403c-8b0c-ec9dc2ec5b75",
   "metadata": {},
   "outputs": [
    {
     "name": "stderr",
     "output_type": "stream",
     "text": [
      "  0%|          | 0/8 [00:00<?, ?it/s]"
     ]
    },
    {
     "name": "stdout",
     "output_type": "stream",
     "text": [
      "(30419, 1600)\n"
     ]
    },
    {
     "name": "stderr",
     "output_type": "stream",
     "text": [
      " 12%|█▎        | 1/8 [02:47<19:32, 167.45s/it]"
     ]
    },
    {
     "name": "stdout",
     "output_type": "stream",
     "text": [
      "(71305, 2025)\n"
     ]
    },
    {
     "name": "stderr",
     "output_type": "stream",
     "text": [
      " 25%|██▌       | 2/8 [18:57<1:03:56, 639.35s/it]"
     ]
    },
    {
     "name": "stdout",
     "output_type": "stream",
     "text": [
      "(43058, 3027)\n"
     ]
    },
    {
     "name": "stderr",
     "output_type": "stream",
     "text": [
      " 38%|███▊      | 3/8 [41:21<1:20:05, 961.19s/it]"
     ]
    },
    {
     "name": "stdout",
     "output_type": "stream",
     "text": [
      "(85304, 2617)\n"
     ]
    },
    {
     "name": "stderr",
     "output_type": "stream",
     "text": [
      " 50%|█████     | 4/8 [1:08:35<1:21:47, 1226.84s/it]"
     ]
    },
    {
     "name": "stdout",
     "output_type": "stream",
     "text": [
      "(98028, 3193)\n"
     ]
    },
    {
     "name": "stderr",
     "output_type": "stream",
     "text": [
      " 62%|██████▎   | 5/8 [1:46:14<1:19:57, 1599.07s/it]"
     ]
    },
    {
     "name": "stdout",
     "output_type": "stream",
     "text": [
      "(128220, 4327)\n"
     ]
    },
    {
     "name": "stderr",
     "output_type": "stream",
     "text": [
      " 75%|███████▌  | 6/8 [3:41:48<1:53:45, 3412.93s/it]"
     ]
    },
    {
     "name": "stdout",
     "output_type": "stream",
     "text": [
      "(88957, 6526)\n"
     ]
    },
    {
     "name": "stderr",
     "output_type": "stream",
     "text": [
      " 88%|████████▊ | 7/8 [7:00:44<1:43:19, 6199.36s/it]"
     ]
    },
    {
     "name": "stdout",
     "output_type": "stream",
     "text": [
      "(58527, 4383)\n"
     ]
    },
    {
     "name": "stderr",
     "output_type": "stream",
     "text": [
      "100%|██████████| 8/8 [9:03:34<00:00, 4076.84s/it]  \n"
     ]
    }
   ],
   "source": [
    "#compute and save all results\n",
    "for wave in tqdm(range(1,9)):\n",
    "    \n",
    "    #open data\n",
    "    data = pd.read_csv(f\"wave{wave}.csv\", low_memory=False)\n",
    "    print(data.shape)\n",
    "\n",
    "    #apply compute_stats function\n",
    "    test = data.copy()\n",
    "    stats = compute_stats(test, wave=wave)\n",
    "    \n",
    "    #save results\n",
    "    stats.to_csv(f\"stats_wave{wave}.csv\", index=False)\n",
    "    stats.head()"
   ]
  },
  {
   "cell_type": "code",
   "execution_count": 193,
   "id": "62bba1ea-6f03-48b6-8974-d5e33bccea2e",
   "metadata": {},
   "outputs": [
    {
     "name": "stderr",
     "output_type": "stream",
     "text": [
      "100%|██████████| 8/8 [00:00<00:00, 295.36it/s]"
     ]
    },
    {
     "name": "stdout",
     "output_type": "stream",
     "text": [
      "    0   Var_name           Mean           Std   Median\n",
      "0 NaN   exrate_1       2.563018  2.864668e+00      1.0\n",
      "1 NaN   as003e_1  151841.692249  1.223841e+07   5000.0\n",
      "2 NaN  as003v1_1    3320.559777  8.666762e+02   3600.0\n",
      "3 NaN  as003v2_1    6590.547301  1.734869e+03   7100.0\n",
      "4 NaN  as003v3_1   13208.835095  3.475529e+03  14000.0\n"
     ]
    },
    {
     "name": "stderr",
     "output_type": "stream",
     "text": [
      "\n"
     ]
    }
   ],
   "source": [
    "all_stats = pd.Series(dtype=np.float64)\n",
    "#check shape of all stats\n",
    "for wave in tqdm(range(1,9)):\n",
    "    data = pd.read_csv(f\"stats_wave{wave}.csv\", low_memory=False)\n",
    "    #print(f\"Descriptive stats of wave{wave} \\n\", data.head(), \"\\n\")\n",
    "    all_stats = pd.concat([all_stats, data])\n",
    "\n",
    "print(all_stats.head())"
   ]
  },
  {
   "cell_type": "code",
   "execution_count": 184,
   "id": "62207873-81c0-46a2-b916-de6d445ae27f",
   "metadata": {},
   "outputs": [
    {
     "data": {
      "text/html": [
       "<div>\n",
       "<style scoped>\n",
       "    .dataframe tbody tr th:only-of-type {\n",
       "        vertical-align: middle;\n",
       "    }\n",
       "\n",
       "    .dataframe tbody tr th {\n",
       "        vertical-align: top;\n",
       "    }\n",
       "\n",
       "    .dataframe thead th {\n",
       "        text-align: right;\n",
       "    }\n",
       "</style>\n",
       "<table border=\"1\" class=\"dataframe\">\n",
       "  <thead>\n",
       "    <tr style=\"text-align: right;\">\n",
       "      <th></th>\n",
       "      <th>Var_name</th>\n",
       "      <th>Mean</th>\n",
       "      <th>Std</th>\n",
       "      <th>Median</th>\n",
       "    </tr>\n",
       "  </thead>\n",
       "  <tbody>\n",
       "    <tr>\n",
       "      <th>0</th>\n",
       "      <td>country_7</td>\n",
       "      <td>28.531719</td>\n",
       "      <td>14.971177</td>\n",
       "      <td>25.0</td>\n",
       "    </tr>\n",
       "    <tr>\n",
       "      <th>1</th>\n",
       "      <td>language_7</td>\n",
       "      <td>29.699301</td>\n",
       "      <td>15.163099</td>\n",
       "      <td>28.0</td>\n",
       "    </tr>\n",
       "    <tr>\n",
       "      <th>2</th>\n",
       "      <td>ac012__7</td>\n",
       "      <td>7.291627</td>\n",
       "      <td>2.379563</td>\n",
       "      <td>8.0</td>\n",
       "    </tr>\n",
       "    <tr>\n",
       "      <th>3</th>\n",
       "      <td>ac014__7</td>\n",
       "      <td>2.422281</td>\n",
       "      <td>1.193650</td>\n",
       "      <td>2.0</td>\n",
       "    </tr>\n",
       "    <tr>\n",
       "      <th>4</th>\n",
       "      <td>ac015__7</td>\n",
       "      <td>2.663727</td>\n",
       "      <td>1.191490</td>\n",
       "      <td>3.0</td>\n",
       "    </tr>\n",
       "    <tr>\n",
       "      <th>5</th>\n",
       "      <td>ac016__7</td>\n",
       "      <td>3.004339</td>\n",
       "      <td>1.189289</td>\n",
       "      <td>3.0</td>\n",
       "    </tr>\n",
       "    <tr>\n",
       "      <th>6</th>\n",
       "      <td>ac017__7</td>\n",
       "      <td>1.736182</td>\n",
       "      <td>1.010346</td>\n",
       "      <td>2.0</td>\n",
       "    </tr>\n",
       "    <tr>\n",
       "      <th>7</th>\n",
       "      <td>ac018__7</td>\n",
       "      <td>2.976267</td>\n",
       "      <td>1.184026</td>\n",
       "      <td>3.0</td>\n",
       "    </tr>\n",
       "    <tr>\n",
       "      <th>8</th>\n",
       "      <td>ac019__7</td>\n",
       "      <td>2.504735</td>\n",
       "      <td>1.251186</td>\n",
       "      <td>3.0</td>\n",
       "    </tr>\n",
       "    <tr>\n",
       "      <th>9</th>\n",
       "      <td>ac020__7</td>\n",
       "      <td>1.449935</td>\n",
       "      <td>0.894550</td>\n",
       "      <td>1.0</td>\n",
       "    </tr>\n",
       "    <tr>\n",
       "      <th>10</th>\n",
       "      <td>ac021__7</td>\n",
       "      <td>1.397043</td>\n",
       "      <td>0.861414</td>\n",
       "      <td>1.0</td>\n",
       "    </tr>\n",
       "    <tr>\n",
       "      <th>11</th>\n",
       "      <td>ac022__7</td>\n",
       "      <td>1.554378</td>\n",
       "      <td>0.892597</td>\n",
       "      <td>1.0</td>\n",
       "    </tr>\n",
       "    <tr>\n",
       "      <th>12</th>\n",
       "      <td>ac023__7</td>\n",
       "      <td>1.864056</td>\n",
       "      <td>1.004286</td>\n",
       "      <td>2.0</td>\n",
       "    </tr>\n",
       "    <tr>\n",
       "      <th>13</th>\n",
       "      <td>ac024__7</td>\n",
       "      <td>1.871889</td>\n",
       "      <td>1.045842</td>\n",
       "      <td>2.0</td>\n",
       "    </tr>\n",
       "    <tr>\n",
       "      <th>14</th>\n",
       "      <td>ac025__7</td>\n",
       "      <td>1.906612</td>\n",
       "      <td>1.076816</td>\n",
       "      <td>2.0</td>\n",
       "    </tr>\n",
       "    <tr>\n",
       "      <th>15</th>\n",
       "      <td>ac035d1_7</td>\n",
       "      <td>0.131973</td>\n",
       "      <td>0.363685</td>\n",
       "      <td>0.0</td>\n",
       "    </tr>\n",
       "    <tr>\n",
       "      <th>16</th>\n",
       "      <td>ac035d4_7</td>\n",
       "      <td>0.087964</td>\n",
       "      <td>0.312948</td>\n",
       "      <td>0.0</td>\n",
       "    </tr>\n",
       "    <tr>\n",
       "      <th>17</th>\n",
       "      <td>ac035d5_7</td>\n",
       "      <td>0.213438</td>\n",
       "      <td>0.430805</td>\n",
       "      <td>0.0</td>\n",
       "    </tr>\n",
       "    <tr>\n",
       "      <th>18</th>\n",
       "      <td>ac035d7_7</td>\n",
       "      <td>0.046521</td>\n",
       "      <td>0.249132</td>\n",
       "      <td>0.0</td>\n",
       "    </tr>\n",
       "    <tr>\n",
       "      <th>19</th>\n",
       "      <td>ac035d8_7</td>\n",
       "      <td>0.677718</td>\n",
       "      <td>0.485930</td>\n",
       "      <td>1.0</td>\n",
       "    </tr>\n",
       "  </tbody>\n",
       "</table>\n",
       "</div>"
      ],
      "text/plain": [
       "      Var_name       Mean        Std  Median\n",
       "0    country_7  28.531719  14.971177    25.0\n",
       "1   language_7  29.699301  15.163099    28.0\n",
       "2     ac012__7   7.291627   2.379563     8.0\n",
       "3     ac014__7   2.422281   1.193650     2.0\n",
       "4     ac015__7   2.663727   1.191490     3.0\n",
       "5     ac016__7   3.004339   1.189289     3.0\n",
       "6     ac017__7   1.736182   1.010346     2.0\n",
       "7     ac018__7   2.976267   1.184026     3.0\n",
       "8     ac019__7   2.504735   1.251186     3.0\n",
       "9     ac020__7   1.449935   0.894550     1.0\n",
       "10    ac021__7   1.397043   0.861414     1.0\n",
       "11    ac022__7   1.554378   0.892597     1.0\n",
       "12    ac023__7   1.864056   1.004286     2.0\n",
       "13    ac024__7   1.871889   1.045842     2.0\n",
       "14    ac025__7   1.906612   1.076816     2.0\n",
       "15   ac035d1_7   0.131973   0.363685     0.0\n",
       "16   ac035d4_7   0.087964   0.312948     0.0\n",
       "17   ac035d5_7   0.213438   0.430805     0.0\n",
       "18   ac035d7_7   0.046521   0.249132     0.0\n",
       "19   ac035d8_7   0.677718   0.485930     1.0"
      ]
     },
     "execution_count": 184,
     "metadata": {},
     "output_type": "execute_result"
    }
   ],
   "source": [
    "data = pd.read_csv(\"stats_wave7.csv\", low_memory=False)\n",
    "data.head(20)"
   ]
  },
  {
   "cell_type": "code",
   "execution_count": null,
   "id": "724f0d6e-a1df-407a-bfe4-8a224f0ccb9b",
   "metadata": {},
   "outputs": [],
   "source": []
  },
  {
   "cell_type": "code",
   "execution_count": null,
   "id": "491acb9e-3316-4918-be55-ca40ab613275",
   "metadata": {},
   "outputs": [],
   "source": []
  },
  {
   "cell_type": "code",
   "execution_count": null,
   "id": "8913d514-2100-4f30-86ff-d74a5f998b1c",
   "metadata": {},
   "outputs": [],
   "source": []
  },
  {
   "cell_type": "code",
   "execution_count": null,
   "id": "163934ef-2362-4223-a274-8e3f1645ec29",
   "metadata": {},
   "outputs": [],
   "source": []
  },
  {
   "cell_type": "code",
   "execution_count": null,
   "id": "2660116e-26e4-44fb-8545-b6975ea1e10e",
   "metadata": {},
   "outputs": [],
   "source": []
  },
  {
   "cell_type": "code",
   "execution_count": null,
   "id": "e99a90a5-e61f-4bb1-abab-70b523779e9a",
   "metadata": {},
   "outputs": [],
   "source": []
  },
  {
   "cell_type": "code",
   "execution_count": null,
   "id": "f5587585-5291-414a-8a1d-368aa35ed52a",
   "metadata": {},
   "outputs": [],
   "source": []
  },
  {
   "cell_type": "code",
   "execution_count": null,
   "id": "c4f38e64-3c75-40f4-a8d5-d2e24c04d687",
   "metadata": {},
   "outputs": [],
   "source": []
  },
  {
   "cell_type": "code",
   "execution_count": null,
   "id": "efbd6492-6328-4bcd-b7d4-9ef3f6585f1a",
   "metadata": {},
   "outputs": [],
   "source": []
  },
  {
   "cell_type": "code",
   "execution_count": null,
   "id": "c931131f-7583-4fe6-a24f-aa90f16c6f2c",
   "metadata": {},
   "outputs": [],
   "source": []
  }
 ],
 "metadata": {
  "kernelspec": {
   "display_name": "Python 3 (ipykernel)",
   "language": "python",
   "name": "python3"
  },
  "language_info": {
   "codemirror_mode": {
    "name": "ipython",
    "version": 3
   },
   "file_extension": ".py",
   "mimetype": "text/x-python",
   "name": "python",
   "nbconvert_exporter": "python",
   "pygments_lexer": "ipython3",
   "version": "3.9.12"
  }
 },
 "nbformat": 4,
 "nbformat_minor": 5
}
