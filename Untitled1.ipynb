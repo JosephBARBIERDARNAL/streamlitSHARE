{
 "cells": [
  {
   "cell_type": "code",
   "execution_count": 199,
   "id": "b1c25951-9ee8-413e-9cb0-715cd55b3a33",
   "metadata": {},
   "outputs": [
    {
     "data": {
      "text/html": [
       "<div>\n",
       "<style scoped>\n",
       "    .dataframe tbody tr th:only-of-type {\n",
       "        vertical-align: middle;\n",
       "    }\n",
       "\n",
       "    .dataframe tbody tr th {\n",
       "        vertical-align: top;\n",
       "    }\n",
       "\n",
       "    .dataframe thead th {\n",
       "        text-align: right;\n",
       "    }\n",
       "</style>\n",
       "<table border=\"1\" class=\"dataframe\">\n",
       "  <thead>\n",
       "    <tr style=\"text-align: right;\">\n",
       "      <th></th>\n",
       "      <th>br001_</th>\n",
       "      <th>br003_</th>\n",
       "      <th>br004_</th>\n",
       "      <th>br010_</th>\n",
       "    </tr>\n",
       "  </thead>\n",
       "  <tbody>\n",
       "    <tr>\n",
       "      <th>0</th>\n",
       "      <td>5.0</td>\n",
       "      <td>NaN</td>\n",
       "      <td>NaN</td>\n",
       "      <td>4.0</td>\n",
       "    </tr>\n",
       "    <tr>\n",
       "      <th>1</th>\n",
       "      <td>5.0</td>\n",
       "      <td>NaN</td>\n",
       "      <td>NaN</td>\n",
       "      <td>6.0</td>\n",
       "    </tr>\n",
       "    <tr>\n",
       "      <th>2</th>\n",
       "      <td>1.0</td>\n",
       "      <td>20.0</td>\n",
       "      <td>52.0</td>\n",
       "      <td>4.0</td>\n",
       "    </tr>\n",
       "    <tr>\n",
       "      <th>3</th>\n",
       "      <td>5.0</td>\n",
       "      <td>NaN</td>\n",
       "      <td>NaN</td>\n",
       "      <td>4.0</td>\n",
       "    </tr>\n",
       "    <tr>\n",
       "      <th>4</th>\n",
       "      <td>5.0</td>\n",
       "      <td>NaN</td>\n",
       "      <td>NaN</td>\n",
       "      <td>-1.0</td>\n",
       "    </tr>\n",
       "  </tbody>\n",
       "</table>\n",
       "</div>"
      ],
      "text/plain": [
       "   br001_  br003_  br004_  br010_\n",
       "0     5.0     NaN     NaN     4.0\n",
       "1     5.0     NaN     NaN     6.0\n",
       "2     1.0    20.0    52.0     4.0\n",
       "3     5.0     NaN     NaN     4.0\n",
       "4     5.0     NaN     NaN    -1.0"
      ]
     },
     "execution_count": 199,
     "metadata": {},
     "output_type": "execute_result"
    }
   ],
   "source": [
    "import pandas as pd\n",
    "data = pd.read_csv(\"/Users/josephbarbier/Desktop/PROJETpython/wave/wave1\", low_memory=False)\n",
    "data = data[['br001_','br003_', 'br004_', 'br010_']]\n",
    "data.head()"
   ]
  },
  {
   "cell_type": "code",
   "execution_count": 187,
   "id": "25ad306d-399f-4c53-8ec7-3162582bc14c",
   "metadata": {},
   "outputs": [],
   "source": [
    "from ipynb.fs.full.others import *\n",
    "import streamlit as st\n",
    "import numpy as np"
   ]
  },
  {
   "cell_type": "code",
   "execution_count": 196,
   "id": "b93e87f9-1a01-49de-a1c2-2afe68d2895b",
   "metadata": {},
   "outputs": [
    {
     "name": "stdout",
     "output_type": "stream",
     "text": [
      "\n",
      " br001_ category\n",
      "No      52.6%\n",
      "Yes    46.88%\n",
      "Name: br001_, dtype: object\n",
      "\n",
      " br003_ float64\n",
      "Le moyenne de br003_ est :28.19\n",
      "L'écart type de br003_ est :14.81\n",
      "La médiane de br003_ est :30.0\n",
      "\n",
      " br004_ float64\n",
      "Le moyenne de br004_ est :44.49\n",
      "L'écart type de br004_ est :14.34\n",
      "La médiane de br004_ est :45.0\n",
      "\n",
      " br010_ category\n",
      "Not at all in the last 6 months    31.83%\n",
      "Almost every day                   21.01%\n",
      "Once or twice a week               17.73%\n",
      "Once or twice a month               10.6%\n",
      "Less than once a month              8.54%\n",
      "Three or four days a week           7.13%\n",
      "Five or six days a week              2.6%\n",
      "Name: br010_, dtype: object\n"
     ]
    }
   ],
   "source": [
    "list_var = ['br001_','br003_', 'br004_', 'br010_']\n",
    "for var in list_var:\n",
    "    data[var] = qual_to_quant(data, var)\n",
    "    print(\"\\n\",var, data[var].dtype)\n",
    "    stat(data, var)"
   ]
  },
  {
   "cell_type": "code",
   "execution_count": 195,
   "id": "9f938758-e7f5-4b83-b6d4-de82b7b7d2d0",
   "metadata": {},
   "outputs": [],
   "source": [
    "def stat(df, variable):\n",
    "    \n",
    "    if df[variable].dtype == \"category\":\n",
    "        counts = df[variable].value_counts()\n",
    "        for i in range(len(counts)):\n",
    "            n = len(df)\n",
    "            counts[i] = str(round(counts[i]/n *100, 2))+'%'\n",
    "        print(counts)  \n",
    "    \n",
    "    else:\n",
    "        mean = round(df[variable].mean(),2)\n",
    "        sd = round(df[variable].std(),2)\n",
    "        median = round(df[variable].median(),2)\n",
    "        print(f\"Le moyenne de {variable} est :{mean}\")\n",
    "        print(f\"L'écart type de {variable} est :{sd}\")\n",
    "        print(f\"La médiane de {variable} est :{median}\")\n",
    "        \n",
    "        \n",
    "def qual_to_quant(df, variable):\n",
    "    \n",
    "    df[variable] = remove_mc(df, variable)\n",
    "    \n",
    "    try: \n",
    "        df[variable] = df[variable].astype(\"float\")\n",
    "    except ValueError:\n",
    "        pass\n",
    "    \n",
    "    return df[variable]\n",
    "\n",
    "def remove_mc(df, variable):\n",
    "    \n",
    "    #The missing codes, according to the documentation\n",
    "    to_remove = [\"Don't know\",\n",
    "                 \"Refusal\",\n",
    "                 \"Implausible value/suspected wrong\",\n",
    "                 \"Not codable\",\n",
    "                 \"Not answered\",\n",
    "                 \"Not yet coded\",\n",
    "                 \"Not applicable\",\n",
    "                 \"Not applicable (not yet part of sample)\",\n",
    "                 \"Not applicable (no participation in this wave)\",\n",
    "                 \"Not applicable (respondent was not listed as household member in this wave)\",\n",
    "                 \"Not applicable (respondent has an End-of-Life interview in previous waves)\",\n",
    "                 \"Not applicable (no main interview done)\",\n",
    "                 \"Not applicable (other reason)\",\n",
    "                 \"Not applicable (missing by design)\"]\n",
    "    \n",
    "    return df[variable].replace(to_remove, np.NaN)"
   ]
  },
  {
   "cell_type": "code",
   "execution_count": 175,
   "id": "5be540a7-6816-4a2a-86a6-7020706db522",
   "metadata": {},
   "outputs": [
    {
     "data": {
      "text/plain": [
       "[1, 2, 2]"
      ]
     },
     "execution_count": 175,
     "metadata": {},
     "output_type": "execute_result"
    }
   ],
   "source": [
    "x = [1,2,2,3,4]\n",
    "x[:-2]"
   ]
  }
 ],
 "metadata": {
  "kernelspec": {
   "display_name": "Python 3 (ipykernel)",
   "language": "python",
   "name": "python3"
  },
  "language_info": {
   "codemirror_mode": {
    "name": "ipython",
    "version": 3
   },
   "file_extension": ".py",
   "mimetype": "text/x-python",
   "name": "python",
   "nbconvert_exporter": "python",
   "pygments_lexer": "ipython3",
   "version": "3.9.12"
  }
 },
 "nbformat": 4,
 "nbformat_minor": 5
}
