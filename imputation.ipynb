{
 "cells": [
  {
   "cell_type": "code",
   "execution_count": 13,
   "id": "ba0c2110-26f0-4c3c-bd7f-094a2c5b3283",
   "metadata": {},
   "outputs": [],
   "source": [
    "import pandas as pd\n",
    "import streamlit as st\n",
    "\n",
    "def count_na(df, list_var):\n",
    "    \n",
    "    #init a nan list\n",
    "    nan_list = []\n",
    "    name_list = []\n",
    "    \n",
    "    #iterate over all variables\n",
    "    for var in list_var[:-2]:\n",
    "    \n",
    "        #count the NA percentage\n",
    "        tot_na = df[var].isna().sum()\n",
    "        na_percent = str(round(tot_na/len(df)*100,2)) + \"%\"\n",
    "        \n",
    "        #add the percent to the list\n",
    "        nan_list.append(na_percent)\n",
    "        name_list.append(var)\n",
    "    \n",
    "    #create a df with the results and return it\n",
    "    nan_df = pd.DataFrame(name_list)\n",
    "    nan_df[\"Percentage of missing values\"] = nan_list\n",
    "    nan_df.rename(columns={0: \"Variable\"}, inplace=True)\n",
    "    \n",
    "    return nan_df"
   ]
  },
  {
   "cell_type": "code",
   "execution_count": 129,
   "id": "b9e9bb53-3b99-4c69-a8c1-e21a2f1f21cc",
   "metadata": {},
   "outputs": [],
   "source": [
    "import pandas as pd\n",
    "from sklearn.impute import SimpleImputer\n",
    "\n",
    "def simple_imputation(df, var, strategy):\n",
    "    \n",
    "    #define an imputer using either \"mean\", \"median\", \"most_frequent\" or \"constant\"\n",
    "    imputer = SimpleImputer(strategy=strategy)\n",
    "    \n",
    "    #fit this imputer on the variable wanted and return the imputation\n",
    "    return imputer.fit_transform(df[var].values.reshape(-1,1))"
   ]
  },
  {
   "cell_type": "code",
   "execution_count": 1,
   "id": "cc89feb2-71c8-4c39-90c9-2403608ffcfb",
   "metadata": {},
   "outputs": [],
   "source": [
    "import pandas as pd\n",
    "from sklearn.experimental import enable_iterative_imputer\n",
    "from sklearn.impute import IterativeImputer\n",
    "\n",
    "def iterate_imputer(df, estimator, imputation_order, max_iter=15, random_state=None):\n",
    "    \n",
    "    #define an imputer using multiples hyperparameters\n",
    "    imputer = IterativeImputer(estimator=estimator,\n",
    "                               max_iter=max_iter,\n",
    "                               tol=1e3,\n",
    "                               imputation_order=imputation_order,\n",
    "                               random_state=random_state)\n",
    "    \n",
    "    #fit this imputer on the df wanted and return the imputation\n",
    "    return imputer.fit_transform(df)"
   ]
  },
  {
   "cell_type": "code",
   "execution_count": 111,
   "id": "3406a4b1-b56f-4bd6-9f27-7a8923a288c6",
   "metadata": {},
   "outputs": [],
   "source": [
    "import pandas as pd\n",
    "from sklearn.impute import KNNImputer\n",
    "\n",
    "def knn_imputation(df, n, weights):\n",
    "    \n",
    "    #define a k-Nearest Neighbors imputer\n",
    "    imputer = KNNImputer(n_neighbors=n, weights=weights)\n",
    "    \n",
    "    #fit this imputer on the df wanted and return the imputation\n",
    "    return imputer.fit_transform(df)"
   ]
  }
 ],
 "metadata": {
  "kernelspec": {
   "display_name": "Python 3 (ipykernel)",
   "language": "python",
   "name": "python3"
  },
  "language_info": {
   "codemirror_mode": {
    "name": "ipython",
    "version": 3
   },
   "file_extension": ".py",
   "mimetype": "text/x-python",
   "name": "python",
   "nbconvert_exporter": "python",
   "pygments_lexer": "ipython3",
   "version": "3.9.12"
  }
 },
 "nbformat": 4,
 "nbformat_minor": 5
}
