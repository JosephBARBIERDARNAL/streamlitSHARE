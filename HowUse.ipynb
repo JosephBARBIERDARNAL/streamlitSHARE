{
 "cells": [
  {
   "cell_type": "markdown",
   "id": "047652ca-e417-41f2-be73-f473b38be43d",
   "metadata": {},
   "source": [
    "### Run the following command in your terminal in order to open the app\n",
    "\n",
    "In the following example, the app is in the folder named `PROJETpython` in my `Desktop`:\n",
    "\n",
    "`streamlit run Desktop/PROJETpython/app.py --theme.backgroundColor=#1e4d69 --theme.primaryColor=#000000 --theme.textColor=#ffffff --theme.secondaryBackgroundColor=#41232c`\n",
    "\n",
    "\n",
    "<br>\n",
    "\n",
    "### Working directory problems\n",
    "\n",
    "It is possible, a priori, that there are working directory problems. Unfortunately, despite our efforts, you may have to change the working directory manually in the notebooks. Here are the places where the working directory is used:\n",
    "\n",
    "\n",
    "- `cleaning.ipynb` (this notebook is not directly used in the app: it should be any problem with this one except if you re-run the notebook that creates the merged datasets)\n",
    "- `get_variables.ipynb`\n",
    "- `output_df.ipynb`"
   ]
  }
 ],
 "metadata": {
  "kernelspec": {
   "display_name": "Python 3 (ipykernel)",
   "language": "python",
   "name": "python3"
  },
  "language_info": {
   "codemirror_mode": {
    "name": "ipython",
    "version": 3
   },
   "file_extension": ".py",
   "mimetype": "text/x-python",
   "name": "python",
   "nbconvert_exporter": "python",
   "pygments_lexer": "ipython3",
   "version": "3.9.12"
  }
 },
 "nbformat": 4,
 "nbformat_minor": 5
}
