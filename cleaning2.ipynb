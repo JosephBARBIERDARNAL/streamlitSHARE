{
 "cells": [
  {
   "cell_type": "markdown",
   "id": "6f403ac2-2494-4099-89ab-6f6e12bac1d3",
   "metadata": {},
   "source": [
    "> `th(digit)` is only useful for the user output when he chooses the wave"
   ]
  },
  {
   "cell_type": "code",
   "execution_count": 2,
   "id": "f81131d9-b57e-42a6-95f9-9dac30f363b6",
   "metadata": {},
   "outputs": [],
   "source": [
    "def th(digit):\n",
    "    if digit == 1:\n",
    "        return \"1st\"\n",
    "    if digit == 2:\n",
    "        return \"2nd\"\n",
    "    if digit == 3:\n",
    "        return \"3rd\"\n",
    "    else:\n",
    "        return f\"{digit}th\""
   ]
  },
  {
   "cell_type": "markdown",
   "id": "75168613-c239-44eb-8b76-a5c3a07189da",
   "metadata": {},
   "source": [
    "<br>\n",
    "<br>\n",
    "\n",
    "> `clean_and_stat(df, variable, z_threshold=4, full_na=False)` computes descriptive statistics, transforms some answers to NA"
   ]
  },
  {
   "cell_type": "code",
   "execution_count": 7,
   "id": "c0e97cd6-78cd-435c-8007-182d28d39e83",
   "metadata": {},
   "outputs": [],
   "source": [
    "import pandas as pd\n",
    "import numpy as np\n",
    "import streamlit as st\n",
    "from scipy import stats\n",
    "\n",
    "\n",
    "def clean_and_stat(df, variable, full_na=False):\n",
    "    \n",
    "    #if var is qualitative, print percentage of each modality\n",
    "    if df[variable].dtype == \"object\":\n",
    "        counts = df[variable].value_counts()\n",
    "        n = sum(counts)\n",
    "        for i in range(len(counts)):\n",
    "            counts[i] = str(round(counts[i]/n *100, 2))+'%'\n",
    "        st.write(counts)  \n",
    "    \n",
    "    #if var is quantitative, print mean, sd and median + remove outliers + \n",
    "    else:\n",
    "        \n",
    "        #according to the documentation, financial amount that\n",
    "        #have been answered \"Refusal\" and \"Don't know\" are code as follow:\n",
    "        #-9999991 and -9999992. So we decide to transform them to nan\n",
    "        threshold = -9999990\n",
    "        to_change_to_nan = df[variable]<threshold \n",
    "        df[variable] = df[variable].where(~to_change_to_nan, np.nan)\n",
    "        \n",
    "        #compute descriptive stats and print them\n",
    "        mean = round(df[variable].mean(),2)\n",
    "        sd = round(df[variable].std(),2)\n",
    "        median = round(df[variable].median(),2)\n",
    "        st.write(f\"Mean: {mean}\")\n",
    "        st.write(f\"Std: {sd}\")\n",
    "        st.write(f\"Median: {median}\")"
   ]
  },
  {
   "cell_type": "markdown",
   "id": "017e2aea-588b-4564-a160-93fe73baf418",
   "metadata": {},
   "source": [
    "<br>\n",
    "<br>\n",
    "\n",
    "> `list_to_df(wave, variables, path)`  takes as argument a list of variable names and a wave, and returns a dataset of these columns in a csv file"
   ]
  },
  {
   "cell_type": "code",
   "execution_count": 10,
   "id": "b128cade-6028-4e36-a4d6-c2a3eed523b5",
   "metadata": {},
   "outputs": [],
   "source": [
    "import pandas as pd\n",
    "\n",
    "def list_to_df(wave, variables, path):\n",
    "    file = f\"{path}wave{wave}\"\n",
    "    df = pd.read_csv(file, low_memory=False, usecols=variables)\n",
    "    return df"
   ]
  }
 ],
 "metadata": {
  "kernelspec": {
   "display_name": "Python 3 (ipykernel)",
   "language": "python",
   "name": "python3"
  },
  "language_info": {
   "codemirror_mode": {
    "name": "ipython",
    "version": 3
   },
   "file_extension": ".py",
   "mimetype": "text/x-python",
   "name": "python",
   "nbconvert_exporter": "python",
   "pygments_lexer": "ipython3",
   "version": "3.9.12"
  }
 },
 "nbformat": 4,
 "nbformat_minor": 5
}
