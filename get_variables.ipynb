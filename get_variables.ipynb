{
 "cells": [
  {
   "cell_type": "markdown",
   "id": "b124b40d-ea76-4c38-adaa-aee705694891",
   "metadata": {},
   "source": [
    "# Function that open all files of a given wave at a time"
   ]
  },
  {
   "cell_type": "code",
   "execution_count": 16,
   "id": "8dbd675e",
   "metadata": {},
   "outputs": [],
   "source": [
    "import pandas as pd\n",
    "import os\n",
    "\n",
    "def get_all_variables(wave):\n",
    "    \n",
    "    PATH = \"/Users/josephbarbier/Desktop/PROJETpython/rawdata/wave\"+str(wave)\n",
    "    vars = set()\n",
    "    \n",
    "    #iterate over all files that end with \".dta\" and open them\n",
    "    for index, dirs, files in os.walk(PATH):\n",
    "        for file in files:\n",
    "            if file.endswith(\".dta\"):\n",
    "                df = pd.read_stata(\n",
    "                    os.path.join(index, file),\n",
    "                    chunksize=1,\n",
    "                    convert_categoricals=False,\n",
    "                ).read(3)\n",
    "                \n",
    "                #add columns name\n",
    "                vars.update(df.columns.tolist())\n",
    "            \n",
    "    return vars"
   ]
  }
 ],
 "metadata": {
  "kernelspec": {
   "display_name": "Python 3 (ipykernel)",
   "language": "python",
   "name": "python3"
  },
  "language_info": {
   "codemirror_mode": {
    "name": "ipython",
    "version": 3
   },
   "file_extension": ".py",
   "mimetype": "text/x-python",
   "name": "python",
   "nbconvert_exporter": "python",
   "pygments_lexer": "ipython3",
   "version": "3.9.12"
  }
 },
 "nbformat": 4,
 "nbformat_minor": 5
}
