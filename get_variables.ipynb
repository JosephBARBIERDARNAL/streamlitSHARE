{
 "cells": [
  {
   "cell_type": "markdown",
   "id": "266f3232-c6f4-4c7d-9465-8c55da42c687",
   "metadata": {},
   "source": [
    "> `get_all_variables()` opens each file ending in *\".dta\"* in a given wave, stores its column names and returns a list of all column names"
   ]
  },
  {
   "cell_type": "code",
   "execution_count": 1,
   "id": "8dbd675e",
   "metadata": {},
   "outputs": [],
   "source": [
    "import pandas as pd\n",
    "import os\n",
    "\n",
    "\n",
    "def get_all_variables(path, wave):\n",
    "    \n",
    "    #init vars that will contains all variable names\n",
    "    vars = set()\n",
    "    \n",
    "    #iterate over all files that concerns the given wave and ends with \".dta\", and open them\n",
    "    for index, dirs, files in os.walk(path):\n",
    "        for file in files:\n",
    "            if file.startswith(f\"sharew{str(wave)}\"):\n",
    "                if file.endswith(\".dta\"):\n",
    "                    df = pd.read_stata(\n",
    "                        os.path.join(index, file),\n",
    "                        chunksize=1,\n",
    "                        convert_categoricals=False,\n",
    "                    ).read(3)\n",
    "                \n",
    "                    #all variable names from wave 3 start with \"sl_\" (for ShareLife) and we remove them\n",
    "                    #because otherwise our regex functions don't work\n",
    "                    if wave==3:\n",
    "                        df.columns = df.columns.str.replace(r'^sl_', '')\n",
    "                \n",
    "                    #add columns name\n",
    "                    vars.update(df.columns.tolist())\n",
    "                \n",
    "    return vars"
   ]
  }
 ],
 "metadata": {
  "kernelspec": {
   "display_name": "Python 3 (ipykernel)",
   "language": "python",
   "name": "python3"
  },
  "language_info": {
   "codemirror_mode": {
    "name": "ipython",
    "version": 3
   },
   "file_extension": ".py",
   "mimetype": "text/x-python",
   "name": "python",
   "nbconvert_exporter": "python",
   "pygments_lexer": "ipython3",
   "version": "3.9.12"
  }
 },
 "nbformat": 4,
 "nbformat_minor": 5
}
