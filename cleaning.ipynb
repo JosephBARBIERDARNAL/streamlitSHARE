{
 "cells": [
  {
   "cell_type": "markdown",
   "id": "b124b40d-ea76-4c38-adaa-aee705694891",
   "metadata": {},
   "source": [
    "> `open_wave(wave_index)` : opens all files from a given wave and returns a list of all the datasets \n",
    "\n",
    "> `compute_stats(dataframe, wave)` : calculates mean, median and standard deviation for all quantitative variables for a given wave"
   ]
  },
  {
   "cell_type": "code",
   "execution_count": 2,
   "id": "188e25ff-b87f-4fa4-9d1a-2e9e5dcf21c8",
   "metadata": {},
   "outputs": [],
   "source": [
    "import pandas as pd\n",
    "import os\n",
    "from functools import reduce\n",
    "import numpy as np\n",
    "\n",
    "def open_wave(wave):\n",
    "    \n",
    "    PATH = \"/Users/josephbarbier/Desktop/PROJETpython/rawdata/wave\"+str(wave)\n",
    "    dfList = []\n",
    "    \n",
    "    #iterate over all files that end with \".dta\" and add them to a dfList\n",
    "    for index, dirs, files in os.walk(PATH):\n",
    "        for file in files:\n",
    "            if file.endswith(\".dta\"):\n",
    "                df = pd.read_stata(\n",
    "                    os.path.join(index, file),\n",
    "                    chunksize=1,\n",
    "                    convert_categoricals=False).read()\n",
    "                \n",
    "                #add the current df to the list\n",
    "                dfList.append(df)\n",
    "            \n",
    "    return dfList"
   ]
  },
  {
   "cell_type": "code",
   "execution_count": 8,
   "id": "7990bb5d-6b72-4b57-83a9-91d69cafff71",
   "metadata": {},
   "outputs": [
    {
     "name": "stdout",
     "output_type": "stream",
     "text": [
      "Shape of wave 1: (30419, 1649)\n",
      "The file of wave 1 has been saved!\n",
      "\n",
      "Shape of wave 2: (37143, 1897)\n",
      "The file of wave 2 has been saved!\n",
      "\n"
     ]
    },
    {
     "name": "stderr",
     "output_type": "stream",
     "text": [
      "/var/folders/m2/jfzxyg4s0xz3jyw5f94r7tcm0000gn/T/ipykernel_2464/1865696712.py:16: FutureWarning: The default value of regex will change from True to False in a future version.\n",
      "  data.columns = data.columns.str.replace(r'^sl_', '')\n"
     ]
    },
    {
     "name": "stdout",
     "output_type": "stream",
     "text": [
      "Shape of wave 3: (28463, 3008)\n",
      "The file of wave 3 has been saved!\n",
      "\n",
      "Shape of wave 4: (58000, 2475)\n",
      "The file of wave 4 has been saved!\n",
      "\n",
      "Shape of wave 5: (66065, 3059)\n",
      "The file of wave 5 has been saved!\n",
      "\n",
      "Shape of wave 6: (68085, 4193)\n",
      "The file of wave 6 has been saved!\n",
      "\n",
      "Shape of wave 7: (77202, 6562)\n",
      "The file of wave 7 has been saved!\n",
      "\n",
      "Shape of wave 8: (46733, 4298)\n",
      "The file of wave 8 has been saved!\n",
      "\n"
     ]
    }
   ],
   "source": [
    "#merge and save all data into 1 df per wave\n",
    "for i in range(1,9):\n",
    "    \n",
    "    #merge all dfs into one df\n",
    "    data = reduce(lambda left, right:\n",
    "                  pd.merge(left,\n",
    "                           right,\n",
    "                           on = [\"mergeid\"],\n",
    "                           how = \"outer\",\n",
    "                           suffixes = (None, \"_y2\")),\n",
    "                    open_wave(i))\n",
    "    \n",
    "    #all wave 3 variables start with \"sl_\" (for SHARE LIFE) and we remove them\n",
    "    #because otherwise our regex functions don't work\n",
    "    if i==3:\n",
    "        data.columns = data.columns.str.replace(r'^sl_', '', regex=True)\n",
    "\n",
    "    #remove columns containing the \"_y2\" pattern since they are dupplicate\n",
    "    data = data[data.columns.drop(list(data.filter(regex='_y2$')))]\n",
    "    print(f\"Shape of wave {i}:\", data.shape)\n",
    "    data.to_csv(f\"wave/wave{i}\", index=False)\n",
    "    print(f\"The file of wave {i} has been saved!\\n\")"
   ]
  },
  {
   "cell_type": "markdown",
   "id": "25aadfcc-def3-469d-b369-30b2bfafd3fc",
   "metadata": {},
   "source": [
    "# Function that computes mean, sd and median for all quantitative variables"
   ]
  },
  {
   "cell_type": "code",
   "execution_count": 169,
   "id": "9b5d26ec-89a1-4c06-8d34-212e0c581b64",
   "metadata": {},
   "outputs": [],
   "source": [
    "def compute_stats(dataframe, wave):\n",
    "    \n",
    "    wave = str(wave)\n",
    "    \n",
    "    df = dataframe.copy()\n",
    "    variable = list(df.columns)\n",
    "\n",
    "    #init lists to fill in\n",
    "    mean = []\n",
    "    sd = []\n",
    "    median = []\n",
    "    var_name = []\n",
    "    \n",
    "    for var in variable:\n",
    "        \n",
    "        #compute mean, sd and median for all quant variables\n",
    "        df[var] = pd.to_numeric(df[var], errors='coerce')\n",
    "        mean.append(df[var].mean())\n",
    "        sd.append(df[var].std())\n",
    "        median.append(df[var].median())\n",
    "        var_name.append(var+\"_\"+wave)\n",
    "        \n",
    "    #concatenate all lists and name columns\n",
    "    features = {'Var_name': var_name,\n",
    "                'Mean': mean, \n",
    "                'Std': sd, \n",
    "                'Median': median} \n",
    "    df_to_return = pd.DataFrame(features, columns= ['Var_name','Mean','Std','Median'])\n",
    "    df_to_return = df_to_return.dropna(axis=0)\n",
    "    \n",
    "    return df_to_return"
   ]
  },
  {
   "cell_type": "code",
   "execution_count": 170,
   "id": "00ca4142-c62c-403c-8b0c-ec9dc2ec5b75",
   "metadata": {},
   "outputs": [
    {
     "name": "stderr",
     "output_type": "stream",
     "text": [
      "  0%|          | 0/8 [00:00<?, ?it/s]"
     ]
    },
    {
     "name": "stdout",
     "output_type": "stream",
     "text": [
      "(30419, 1600)\n"
     ]
    },
    {
     "name": "stderr",
     "output_type": "stream",
     "text": [
      " 12%|█▎        | 1/8 [02:47<19:32, 167.45s/it]"
     ]
    },
    {
     "name": "stdout",
     "output_type": "stream",
     "text": [
      "(71305, 2025)\n"
     ]
    },
    {
     "name": "stderr",
     "output_type": "stream",
     "text": [
      " 25%|██▌       | 2/8 [18:57<1:03:56, 639.35s/it]"
     ]
    },
    {
     "name": "stdout",
     "output_type": "stream",
     "text": [
      "(43058, 3027)\n"
     ]
    },
    {
     "name": "stderr",
     "output_type": "stream",
     "text": [
      " 38%|███▊      | 3/8 [41:21<1:20:05, 961.19s/it]"
     ]
    },
    {
     "name": "stdout",
     "output_type": "stream",
     "text": [
      "(85304, 2617)\n"
     ]
    },
    {
     "name": "stderr",
     "output_type": "stream",
     "text": [
      " 50%|█████     | 4/8 [1:08:35<1:21:47, 1226.84s/it]"
     ]
    },
    {
     "name": "stdout",
     "output_type": "stream",
     "text": [
      "(98028, 3193)\n"
     ]
    },
    {
     "name": "stderr",
     "output_type": "stream",
     "text": [
      " 62%|██████▎   | 5/8 [1:46:14<1:19:57, 1599.07s/it]"
     ]
    },
    {
     "name": "stdout",
     "output_type": "stream",
     "text": [
      "(128220, 4327)\n"
     ]
    },
    {
     "name": "stderr",
     "output_type": "stream",
     "text": [
      " 75%|███████▌  | 6/8 [3:41:48<1:53:45, 3412.93s/it]"
     ]
    },
    {
     "name": "stdout",
     "output_type": "stream",
     "text": [
      "(88957, 6526)\n"
     ]
    },
    {
     "name": "stderr",
     "output_type": "stream",
     "text": [
      " 88%|████████▊ | 7/8 [7:00:44<1:43:19, 6199.36s/it]"
     ]
    },
    {
     "name": "stdout",
     "output_type": "stream",
     "text": [
      "(58527, 4383)\n"
     ]
    },
    {
     "name": "stderr",
     "output_type": "stream",
     "text": [
      "100%|██████████| 8/8 [9:03:34<00:00, 4076.84s/it]  \n"
     ]
    }
   ],
   "source": [
    "#compute and save all results\n",
    "for wave in tqdm(range(1,9)):\n",
    "    \n",
    "    #open data\n",
    "    data = pd.read_csv(f\"wave{wave}.csv\", low_memory=False)\n",
    "    print(data.shape)\n",
    "\n",
    "    #apply compute_stats function\n",
    "    test = data.copy()\n",
    "    stats = compute_stats(test, wave=wave)\n",
    "    \n",
    "    #save results\n",
    "    stats.to_csv(f\"stats_wave{wave}.csv\", index=False)\n",
    "    stats.head()"
   ]
  },
  {
   "cell_type": "code",
   "execution_count": 193,
   "id": "62bba1ea-6f03-48b6-8974-d5e33bccea2e",
   "metadata": {},
   "outputs": [
    {
     "name": "stderr",
     "output_type": "stream",
     "text": [
      "100%|██████████| 8/8 [00:00<00:00, 295.36it/s]"
     ]
    },
    {
     "name": "stdout",
     "output_type": "stream",
     "text": [
      "    0   Var_name           Mean           Std   Median\n",
      "0 NaN   exrate_1       2.563018  2.864668e+00      1.0\n",
      "1 NaN   as003e_1  151841.692249  1.223841e+07   5000.0\n",
      "2 NaN  as003v1_1    3320.559777  8.666762e+02   3600.0\n",
      "3 NaN  as003v2_1    6590.547301  1.734869e+03   7100.0\n",
      "4 NaN  as003v3_1   13208.835095  3.475529e+03  14000.0\n"
     ]
    },
    {
     "name": "stderr",
     "output_type": "stream",
     "text": [
      "\n"
     ]
    }
   ],
   "source": [
    "all_stats = pd.Series(dtype=np.float64)\n",
    "#check shape of all stats\n",
    "for wave in tqdm(range(1,9)):\n",
    "    data = pd.read_csv(f\"stats_wave{wave}.csv\", low_memory=False)\n",
    "    #print(f\"Descriptive stats of wave{wave} \\n\", data.head(), \"\\n\")\n",
    "    all_stats = pd.concat([all_stats, data])\n",
    "\n",
    "print(all_stats.head())"
   ]
  }
 ],
 "metadata": {
  "kernelspec": {
   "display_name": "Python 3 (ipykernel)",
   "language": "python",
   "name": "python3"
  },
  "language_info": {
   "codemirror_mode": {
    "name": "ipython",
    "version": 3
   },
   "file_extension": ".py",
   "mimetype": "text/x-python",
   "name": "python",
   "nbconvert_exporter": "python",
   "pygments_lexer": "ipython3",
   "version": "3.9.12"
  }
 },
 "nbformat": 4,
 "nbformat_minor": 5
}
