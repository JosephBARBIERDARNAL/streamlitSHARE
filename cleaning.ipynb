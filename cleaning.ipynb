{
 "cells": [
  {
   "cell_type": "markdown",
   "id": "6f403ac2-2494-4099-89ab-6f6e12bac1d3",
   "metadata": {},
   "source": [
    "> `th()` is only useful for the user output when he chooses the wave\n",
    "\n",
    "> `remove_mc()` removes the Missing Code modalities (i.e: not valid answers) into NaN\n",
    "\n",
    "> `qual_to_quant()` because all variables are considered as categorical, transforms, if possible, a variable into a numeric one and uses the `remove_mc()` before from above. If it can't, juste return the variable cleaned\n",
    "\n",
    "> `clean_and_stat()` computes descriptive statistics, transforms some answers to NA and removes outliers using z-score method"
   ]
  },
  {
   "cell_type": "code",
   "execution_count": 2,
   "id": "f81131d9-b57e-42a6-95f9-9dac30f363b6",
   "metadata": {},
   "outputs": [],
   "source": [
    "def th(digit):\n",
    "    if digit == 1:\n",
    "        return \"1st\"\n",
    "    if digit == 2:\n",
    "        return \"2nd\"\n",
    "    if digit == 3:\n",
    "        return \"3rd\"\n",
    "    else:\n",
    "        return f\"{digit}th\""
   ]
  },
  {
   "cell_type": "code",
   "execution_count": 32,
   "id": "c45f2294-dc1b-4b64-921b-ac4cf553ee98",
   "metadata": {},
   "outputs": [],
   "source": [
    "import numpy as np\n",
    "\n",
    "def remove_mc(df, variable):\n",
    "    \n",
    "    #the Missing Codes, according to the documentation + a specific case at the end\n",
    "    to_remove = [\"Don't know\",\n",
    "                 \"Refusal\",\n",
    "                 \"Implausible value/suspected wrong\",\n",
    "                 \"Implausible/suspected wrong\",\n",
    "                 \"Not codable\",\n",
    "                 \"Not answered\",\n",
    "                 \"Not yet coded\",\n",
    "                 \"Not applicable\",\n",
    "                 \"Not applicable (not yet part of sample)\",\n",
    "                 \"Not applicable (no participation in this wave)\",\n",
    "                 \"Not applicable (respondent was not listed as household member in this wave)\",\n",
    "                 \"Not applicable (respondent has an End-of-Life interview in previous waves)\",\n",
    "                 \"Not applicable (no main interview done)\",\n",
    "                 \"Not applicable (other reason)\",\n",
    "                 \"Not applicable (missing by design)\",\n",
    "                 \"Still living at residence\"]\n",
    "    \n",
    "    return df[variable].replace(to_remove, np.NaN)"
   ]
  },
  {
   "cell_type": "code",
   "execution_count": 31,
   "id": "81150ea7-a327-4d70-a895-3e9445fcffca",
   "metadata": {},
   "outputs": [],
   "source": [
    "import pandas as pd\n",
    "import numpy as np\n",
    "import streamlit as st\n",
    "\n",
    "def qual_to_quant(df, variable):\n",
    "    \n",
    "    #remove the missing codes from above\n",
    "    df[variable] = remove_mc(df, variable)\n",
    "    \n",
    "    #if possible, convert a variable to a numeric one\n",
    "    try: \n",
    "        df[variable] = df[variable].astype(\"float\")\n",
    "    except ValueError:\n",
    "        pass\n",
    "    \n",
    "    return df[variable]"
   ]
  },
  {
   "cell_type": "code",
   "execution_count": 33,
   "id": "c0e97cd6-78cd-435c-8007-182d28d39e83",
   "metadata": {},
   "outputs": [],
   "source": [
    "import pandas as pd\n",
    "import numpy as np\n",
    "import streamlit as st\n",
    "from scipy import stats\n",
    "\n",
    "\n",
    "def clean_and_stat(df, variable, z_threshold=3, full_na=False):\n",
    "    \n",
    "    #if var is qualitative, print percentage of each modality\n",
    "    if df[variable].dtype == \"object\":\n",
    "        counts = df[variable].value_counts()\n",
    "        n = sum(counts)\n",
    "        for i in range(len(counts)):\n",
    "            counts[i] = str(round(counts[i]/n *100, 2))+'%'\n",
    "        st.write(counts)  \n",
    "    \n",
    "    #if var is quantitative, print mean, sd and median + remove outliers + \n",
    "    else:\n",
    "        \n",
    "        #according to the documentation, financial amount that\n",
    "        #have been answered \"Refusal\" and \"Don't know\" are code as follow:\n",
    "        #-9999991 and -9999992. So we decide to transform them to nan\n",
    "        threshold = -9999990\n",
    "        to_change_to_nan = df[variable]<threshold \n",
    "        df[variable] = df[variable].where(~to_change_to_nan, np.nan)\n",
    "        \n",
    "        #remove outliers\n",
    "        if full_na == True:\n",
    "            pass\n",
    "        else:\n",
    "            mean = df[variable].mean()\n",
    "            std = df[variable].std()\n",
    "            z_scores = (df[variable] - mean) / std\n",
    "            df.loc[z_scores > z_threshold, variable] = np.nan\n",
    "        \n",
    "        #compute descriptive stats and print them\n",
    "        mean = round(df[variable].mean(),2)\n",
    "        sd = round(df[variable].std(),2)\n",
    "        median = round(df[variable].median(),2)\n",
    "        st.write(f\"Mean: {mean}\")\n",
    "        st.write(f\"Std: {sd}\")\n",
    "        st.write(f\"Median: {median}\")"
   ]
  }
 ],
 "metadata": {
  "kernelspec": {
   "display_name": "Python 3 (ipykernel)",
   "language": "python",
   "name": "python3"
  },
  "language_info": {
   "codemirror_mode": {
    "name": "ipython",
    "version": 3
   },
   "file_extension": ".py",
   "mimetype": "text/x-python",
   "name": "python",
   "nbconvert_exporter": "python",
   "pygments_lexer": "ipython3",
   "version": "3.9.12"
  }
 },
 "nbformat": 4,
 "nbformat_minor": 5
}
