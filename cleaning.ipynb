{
 "cells": [
  {
   "cell_type": "markdown",
   "id": "b124b40d-ea76-4c38-adaa-aee705694891",
   "metadata": {},
   "source": [
    "### This file contains the code used to perform the first merge of data and the calculation of descriptive statistics. The results have been saved in the \"wave\" and \"stats\" folder.\n",
    "\n",
    "<br>\n",
    "\n",
    "### For this, we create 2 functions\n",
    "\n",
    "> `open_wave(wave_index)` : opens all files from a given wave and returns a single dataframe where every dataset has been merged together\n",
    "\n",
    "> `compute_stats(dataframe, wave)` : calculates mean, median and standard deviation for all quantitative variables for a given wave"
   ]
  },
  {
   "cell_type": "code",
   "execution_count": 47,
   "id": "b26e66e5-fae3-4d0b-9400-32aeb10b9580",
   "metadata": {},
   "outputs": [],
   "source": [
    "import pandas as pd\n",
    "from tqdm import tqdm\n",
    "import numpy as np"
   ]
  },
  {
   "cell_type": "code",
   "execution_count": 16,
   "id": "188e25ff-b87f-4fa4-9d1a-2e9e5dcf21c8",
   "metadata": {},
   "outputs": [],
   "source": [
    "def open_wave(wave_index):\n",
    "    \n",
    "    #create a list of files name\n",
    "    prefixes_files_name = ['ac', 'as', 'ax', 'br', 'cc', 'cf', 'ch', 'co',\n",
    "                           'cs', 'dn', 'dq', 'ep', 'ex', 'fs', 'ft',\n",
    "                           'gl', 'gs', 'gs', 'gv_big5', 'gv_children',\n",
    "                           'gv_health', 'gv_housing', 'gv_isced', 'gv_isco',\n",
    "                           'gv_networks', 'gv_weights', 'gvgrossnet', 'hc', 'hh',\n",
    "                           'ho', 'it', 'mh', 'pf', 'ph', 'ra', 'rc', 're',\n",
    "                           'rp', 'sp', 'sr', 'st', 'te', 'tv', 'wq', 'ws', 'xt']\n",
    "    fileList = [f\"sharew{wave_index}_rel8-0-0_{i}.dta\" for i in prefixes_files_name]\n",
    "    \n",
    "    #read all df\n",
    "    dfList = []\n",
    "    for file in fileList:\n",
    "        #the topics covered vary from one wave to another,\n",
    "        #which means that some \"theoretical\" files will not be found \n",
    "        try:\n",
    "            thisDF = pd.read_stata(f\"wave{wave_index}/{file}\", convert_categoricals=False)\n",
    "            dfList.append(thisDF)\n",
    "        except FileNotFoundError:\n",
    "            pass\n",
    "\n",
    "    #merge all df\n",
    "    data = thisDF[\"mergeid\"]\n",
    "    for i in tqdm(range(len(dfList))):\n",
    "        data = pd.merge(data, dfList[i], how='outer')\n",
    "    \n",
    "    #return the all\n",
    "    return data\n",
    "\n",
    "\n",
    "#merge and save all data\n",
    "\n",
    "wave1 = open_wave(1)\n",
    "wave1.to_csv('wave1.csv', index=False)\n",
    "\n",
    "wave2 = open_wave(2)\n",
    "wave2.to_csv('wave2.csv', index=False)\n",
    "\n",
    "wave3 = open_wave(3)\n",
    "wave3.to_csv('wave3.csv', index=False)\n",
    "\n",
    "wave4 = open_wave(4)\n",
    "wave4.to_csv('wave4.csv', index=False)\n",
    "\n",
    "wave5 = open_wave(5)\n",
    "wave5.to_csv('wave5.csv', index=False)\n",
    "\n",
    "wave6 = open_wave(6)\n",
    "wave6.to_csv('wave6.csv', index=False)\n",
    "\n",
    "wave7 = open_wave(7)\n",
    "wave7.to_csv('wave7.csv', index=False)\n",
    "\n",
    "wave8 = open_wave(8)\n",
    "wave8.to_csv('wave8.csv', index=False)"
   ]
  },
  {
   "cell_type": "markdown",
   "id": "25aadfcc-def3-469d-b369-30b2bfafd3fc",
   "metadata": {},
   "source": [
    "# Function that computes mean, sd and median for all quantitative variables"
   ]
  },
  {
   "cell_type": "code",
   "execution_count": 169,
   "id": "9b5d26ec-89a1-4c06-8d34-212e0c581b64",
   "metadata": {},
   "outputs": [],
   "source": [
    "def compute_stats(dataframe, wave):\n",
    "    \n",
    "    wave = str(wave)\n",
    "    \n",
    "    df = dataframe.copy()\n",
    "    variable = list(df.columns)\n",
    "\n",
    "    #init lists to fill in\n",
    "    mean = []\n",
    "    sd = []\n",
    "    median = []\n",
    "    var_name = []\n",
    "    \n",
    "    for var in variable:\n",
    "        \n",
    "        #compute mean, sd and median for all quant variables\n",
    "        df[var] = pd.to_numeric(df[var], errors='coerce')\n",
    "        mean.append(df[var].mean())\n",
    "        sd.append(df[var].std())\n",
    "        median.append(df[var].median())\n",
    "        var_name.append(var+\"_\"+wave)\n",
    "        \n",
    "    #concatenate all lists and name columns\n",
    "    features = {'Var_name': var_name,\n",
    "                'Mean': mean, \n",
    "                'Std': sd, \n",
    "                'Median': median} \n",
    "    df_to_return = pd.DataFrame(features, columns= ['Var_name','Mean','Std','Median'])\n",
    "    df_to_return = df_to_return.dropna(axis=0)\n",
    "    \n",
    "    return df_to_return"
   ]
  },
  {
   "cell_type": "code",
   "execution_count": 170,
   "id": "00ca4142-c62c-403c-8b0c-ec9dc2ec5b75",
   "metadata": {},
   "outputs": [
    {
     "name": "stderr",
     "output_type": "stream",
     "text": [
      "  0%|          | 0/8 [00:00<?, ?it/s]"
     ]
    },
    {
     "name": "stdout",
     "output_type": "stream",
     "text": [
      "(30419, 1600)\n"
     ]
    },
    {
     "name": "stderr",
     "output_type": "stream",
     "text": [
      " 12%|█▎        | 1/8 [02:47<19:32, 167.45s/it]"
     ]
    },
    {
     "name": "stdout",
     "output_type": "stream",
     "text": [
      "(71305, 2025)\n"
     ]
    },
    {
     "name": "stderr",
     "output_type": "stream",
     "text": [
      " 25%|██▌       | 2/8 [18:57<1:03:56, 639.35s/it]"
     ]
    },
    {
     "name": "stdout",
     "output_type": "stream",
     "text": [
      "(43058, 3027)\n"
     ]
    },
    {
     "name": "stderr",
     "output_type": "stream",
     "text": [
      " 38%|███▊      | 3/8 [41:21<1:20:05, 961.19s/it]"
     ]
    },
    {
     "name": "stdout",
     "output_type": "stream",
     "text": [
      "(85304, 2617)\n"
     ]
    },
    {
     "name": "stderr",
     "output_type": "stream",
     "text": [
      " 50%|█████     | 4/8 [1:08:35<1:21:47, 1226.84s/it]"
     ]
    },
    {
     "name": "stdout",
     "output_type": "stream",
     "text": [
      "(98028, 3193)\n"
     ]
    },
    {
     "name": "stderr",
     "output_type": "stream",
     "text": [
      " 62%|██████▎   | 5/8 [1:46:14<1:19:57, 1599.07s/it]"
     ]
    },
    {
     "name": "stdout",
     "output_type": "stream",
     "text": [
      "(128220, 4327)\n"
     ]
    },
    {
     "name": "stderr",
     "output_type": "stream",
     "text": [
      " 75%|███████▌  | 6/8 [3:41:48<1:53:45, 3412.93s/it]"
     ]
    },
    {
     "name": "stdout",
     "output_type": "stream",
     "text": [
      "(88957, 6526)\n"
     ]
    },
    {
     "name": "stderr",
     "output_type": "stream",
     "text": [
      " 88%|████████▊ | 7/8 [7:00:44<1:43:19, 6199.36s/it]"
     ]
    },
    {
     "name": "stdout",
     "output_type": "stream",
     "text": [
      "(58527, 4383)\n"
     ]
    },
    {
     "name": "stderr",
     "output_type": "stream",
     "text": [
      "100%|██████████| 8/8 [9:03:34<00:00, 4076.84s/it]  \n"
     ]
    }
   ],
   "source": [
    "#compute and save all results\n",
    "for wave in tqdm(range(1,9)):\n",
    "    \n",
    "    #open data\n",
    "    data = pd.read_csv(f\"wave{wave}.csv\", low_memory=False)\n",
    "    print(data.shape)\n",
    "\n",
    "    #apply compute_stats function\n",
    "    test = data.copy()\n",
    "    stats = compute_stats(test, wave=wave)\n",
    "    \n",
    "    #save results\n",
    "    stats.to_csv(f\"stats_wave{wave}.csv\", index=False)\n",
    "    stats.head()"
   ]
  },
  {
   "cell_type": "code",
   "execution_count": 193,
   "id": "62bba1ea-6f03-48b6-8974-d5e33bccea2e",
   "metadata": {},
   "outputs": [
    {
     "name": "stderr",
     "output_type": "stream",
     "text": [
      "100%|██████████| 8/8 [00:00<00:00, 295.36it/s]"
     ]
    },
    {
     "name": "stdout",
     "output_type": "stream",
     "text": [
      "    0   Var_name           Mean           Std   Median\n",
      "0 NaN   exrate_1       2.563018  2.864668e+00      1.0\n",
      "1 NaN   as003e_1  151841.692249  1.223841e+07   5000.0\n",
      "2 NaN  as003v1_1    3320.559777  8.666762e+02   3600.0\n",
      "3 NaN  as003v2_1    6590.547301  1.734869e+03   7100.0\n",
      "4 NaN  as003v3_1   13208.835095  3.475529e+03  14000.0\n"
     ]
    },
    {
     "name": "stderr",
     "output_type": "stream",
     "text": [
      "\n"
     ]
    }
   ],
   "source": [
    "all_stats = pd.Series(dtype=np.float64)\n",
    "#check shape of all stats\n",
    "for wave in tqdm(range(1,9)):\n",
    "    data = pd.read_csv(f\"stats_wave{wave}.csv\", low_memory=False)\n",
    "    #print(f\"Descriptive stats of wave{wave} \\n\", data.head(), \"\\n\")\n",
    "    all_stats = pd.concat([all_stats, data])\n",
    "\n",
    "print(all_stats.head())"
   ]
  }
 ],
 "metadata": {
  "kernelspec": {
   "display_name": "Python 3 (ipykernel)",
   "language": "python",
   "name": "python3"
  },
  "language_info": {
   "codemirror_mode": {
    "name": "ipython",
    "version": 3
   },
   "file_extension": ".py",
   "mimetype": "text/x-python",
   "name": "python",
   "nbconvert_exporter": "python",
   "pygments_lexer": "ipython3",
   "version": "3.9.12"
  }
 },
 "nbformat": 4,
 "nbformat_minor": 5
}
