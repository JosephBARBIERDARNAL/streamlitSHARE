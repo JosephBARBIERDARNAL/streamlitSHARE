{
 "cells": [
  {
   "cell_type": "markdown",
   "id": "4fa2fe55-0322-4e39-a824-c1754f0a4259",
   "metadata": {},
   "source": [
    "> `graph()` plots a graph distribution depending on the data type: barplot for qualitative variables and histogram for quantitatives\n",
    "\n",
    "> `value_qual_var()` computes the name and the occurence of each modalities from a given qualitative variable. Used in `graph()`"
   ]
  },
  {
   "cell_type": "code",
   "execution_count": 91,
   "id": "9a1e38b6-be16-4149-ba84-ee7158dce941",
   "metadata": {},
   "outputs": [],
   "source": [
    "import pandas as pd\n",
    "import streamlit as st\n",
    "import matplotlib.pyplot as plt\n",
    "import numpy as np\n",
    "\n",
    "def graph(data, var):\n",
    "    \n",
    "    plt.style.use('_mpl-gallery')\n",
    "    \n",
    "    if data[var].dtype == \"object\":\n",
    "        categories, counts = value_qual_var(data, var)\n",
    "        fig, ax = plt.subplots()\n",
    "        ax.bar(categories, counts, edgecolor=\"white\", linewidth=0.7)\n",
    "        ax.title.set_text(var)\n",
    "    \n",
    "    else:\n",
    "        fig, ax = plt.subplots()\n",
    "        ax.hist(data[var], bins=20)\n",
    "        ax.title.set_text(var)\n",
    "            \n",
    "    return st.pyplot(fig)"
   ]
  },
  {
   "cell_type": "code",
   "execution_count": 90,
   "id": "e1bf4615-81ec-4b96-9365-a67b30f897a5",
   "metadata": {},
   "outputs": [],
   "source": [
    "def value_qual_var(df, column):\n",
    "    \n",
    "    #get categories and frequency of each of them\n",
    "    categories, counts = np.unique(df[column].astype(str), return_counts=True)\n",
    "    \n",
    "    return (categories, counts)"
   ]
  }
 ],
 "metadata": {
  "kernelspec": {
   "display_name": "Python 3 (ipykernel)",
   "language": "python",
   "name": "python3"
  },
  "language_info": {
   "codemirror_mode": {
    "name": "ipython",
    "version": 3
   },
   "file_extension": ".py",
   "mimetype": "text/x-python",
   "name": "python",
   "nbconvert_exporter": "python",
   "pygments_lexer": "ipython3",
   "version": "3.9.12"
  }
 },
 "nbformat": 4,
 "nbformat_minor": 5
}
