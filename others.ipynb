{
 "cells": [
  {
   "cell_type": "markdown",
   "id": "6f403ac2-2494-4099-89ab-6f6e12bac1d3",
   "metadata": {},
   "source": [
    "> `th()` is only useful for the user output when he chooses the wave"
   ]
  },
  {
   "cell_type": "code",
   "execution_count": 1,
   "id": "f81131d9-b57e-42a6-95f9-9dac30f363b6",
   "metadata": {},
   "outputs": [],
   "source": [
    "def th(digit):\n",
    "    if digit == 1:\n",
    "        return \"1st\"\n",
    "    if digit == 2:\n",
    "        return \"2nd\"\n",
    "    if digit == 3:\n",
    "        return \"3rd\"\n",
    "    else:\n",
    "        return f\"{digit}th\""
   ]
  },
  {
   "cell_type": "code",
   "execution_count": null,
   "id": "3a7e5710-ec89-4551-9ab1-6dff5c243802",
   "metadata": {},
   "outputs": [],
   "source": [
    "def compute_stats(dataframe, wave):\n",
    "    \n",
    "    wave = str(wave)\n",
    "    \n",
    "    df = dataframe.copy()\n",
    "    variable = list(df.columns)\n",
    "\n",
    "    #init lists to fill in\n",
    "    mean = []\n",
    "    sd = []\n",
    "    median = []\n",
    "    var_name = []\n",
    "    \n",
    "    for var in variable:\n",
    "        \n",
    "        #compute mean, sd and median for all quant variables\n",
    "        df[var] = pd.to_numeric(df[var], errors='coerce')\n",
    "        mean.append(df[var].mean())\n",
    "        sd.append(df[var].std())\n",
    "        median.append(df[var].median())\n",
    "        var_name.append(var+\"_\"+wave)\n",
    "        \n",
    "    #concatenate all lists and name columns\n",
    "    features = {'Var_name': var_name,\n",
    "                'Mean': mean, \n",
    "                'Std': sd, \n",
    "                'Median': median} \n",
    "    df_to_return = pd.DataFrame(features, columns= ['Var_name','Mean','Std','Median'])\n",
    "    df_to_return = df_to_return.dropna(axis=0)\n",
    "    \n",
    "    return df_to_return"
   ]
  },
  {
   "cell_type": "code",
   "execution_count": null,
   "id": "c0e97cd6-78cd-435c-8007-182d28d39e83",
   "metadata": {},
   "outputs": [],
   "source": []
  }
 ],
 "metadata": {
  "kernelspec": {
   "display_name": "Python 3 (ipykernel)",
   "language": "python",
   "name": "python3"
  },
  "language_info": {
   "codemirror_mode": {
    "name": "ipython",
    "version": 3
   },
   "file_extension": ".py",
   "mimetype": "text/x-python",
   "name": "python",
   "nbconvert_exporter": "python",
   "pygments_lexer": "ipython3",
   "version": "3.9.12"
  }
 },
 "nbformat": 4,
 "nbformat_minor": 5
}
