{
 "cells": [
  {
   "cell_type": "code",
   "execution_count": 13,
   "id": "f81131d9-b57e-42a6-95f9-9dac30f363b6",
   "metadata": {},
   "outputs": [],
   "source": [
    "def th(digit):\n",
    "    if digit == 1:\n",
    "        return \"1st\"\n",
    "    if digit == 2:\n",
    "        return \"2nd\"\n",
    "    if digit == 3:\n",
    "        return \"3rd\"\n",
    "    else:\n",
    "        return f\"{digit}th\""
   ]
  }
 ],
 "metadata": {
  "kernelspec": {
   "display_name": "Python 3 (ipykernel)",
   "language": "python",
   "name": "python3"
  },
  "language_info": {
   "codemirror_mode": {
    "name": "ipython",
    "version": 3
   },
   "file_extension": ".py",
   "mimetype": "text/x-python",
   "name": "python",
   "nbconvert_exporter": "python",
   "pygments_lexer": "ipython3",
   "version": "3.9.12"
  }
 },
 "nbformat": 4,
 "nbformat_minor": 5
}
