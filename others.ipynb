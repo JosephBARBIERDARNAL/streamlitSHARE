{
 "cells": [
  {
   "cell_type": "markdown",
   "id": "6f403ac2-2494-4099-89ab-6f6e12bac1d3",
   "metadata": {},
   "source": [
    "> `th()` is only useful for the user output when he chooses the wave\n",
    "\n",
    "> `remove_mc()` removes the Missing Code modalities (i.e: not valid answers) into NaN\n",
    "\n",
    "> `qual_to_quant()` because all variables are considered as categorical, transforms, if possible, a variable into a numeric one and use the `remove_mc()` before from above. If it can't, juste return the variable cleaned"
   ]
  },
  {
   "cell_type": "code",
   "execution_count": 2,
   "id": "f81131d9-b57e-42a6-95f9-9dac30f363b6",
   "metadata": {},
   "outputs": [],
   "source": [
    "def th(digit):\n",
    "    if digit == 1:\n",
    "        return \"1st\"\n",
    "    if digit == 2:\n",
    "        return \"2nd\"\n",
    "    if digit == 3:\n",
    "        return \"3rd\"\n",
    "    else:\n",
    "        return f\"{digit}th\""
   ]
  },
  {
   "cell_type": "code",
   "execution_count": 43,
   "id": "c45f2294-dc1b-4b64-921b-ac4cf553ee98",
   "metadata": {},
   "outputs": [],
   "source": [
    "import numpy as np\n",
    "\n",
    "def remove_mc(df, variable):\n",
    "    \n",
    "    #The Missing Codes, according to the documentation + a specific case at the end\n",
    "    to_remove = [\"Don't know\",\n",
    "                 \"Refusal\",\n",
    "                 \"Implausible value/suspected wrong\",\n",
    "                 \"Not codable\",\n",
    "                 \"Not answered\",\n",
    "                 \"Not yet coded\",\n",
    "                 \"Not applicable\",\n",
    "                 \"Not applicable (not yet part of sample)\",\n",
    "                 \"Not applicable (no participation in this wave)\",\n",
    "                 \"Not applicable (respondent was not listed as household member in this wave)\",\n",
    "                 \"Not applicable (respondent has an End-of-Life interview in previous waves)\",\n",
    "                 \"Not applicable (no main interview done)\",\n",
    "                 \"Not applicable (other reason)\",\n",
    "                 \"Not applicable (missing by design)\",\n",
    "                 \"Still living at residence\"]\n",
    "    \n",
    "    return df[variable].replace(to_remove, np.NaN)"
   ]
  },
  {
   "cell_type": "code",
   "execution_count": 38,
   "id": "81150ea7-a327-4d70-a895-3e9445fcffca",
   "metadata": {},
   "outputs": [],
   "source": [
    "import pandas as pd\n",
    "import numpy as np\n",
    "import streamlit as st\n",
    "\n",
    "def qual_to_quant(df, variable):\n",
    "    \n",
    "    df[variable] = remove_mc(df, variable)\n",
    "    \n",
    "    try: \n",
    "        df[variable] = df[variable].astype(\"float\")\n",
    "    except ValueError:\n",
    "        pass\n",
    "    \n",
    "    return df[variable]"
   ]
  },
  {
   "cell_type": "code",
   "execution_count": 41,
   "id": "c0e97cd6-78cd-435c-8007-182d28d39e83",
   "metadata": {},
   "outputs": [],
   "source": [
    "import pandas as pd\n",
    "import streamlit as st\n",
    "\n",
    "def stat(df, variable):\n",
    "    \n",
    "    #if var is qualitative, print percentage of each modality\n",
    "    if df[variable].dtype == \"object\":\n",
    "        counts = df[variable].value_counts()\n",
    "        for i in range(len(counts)):\n",
    "            n = len(df)\n",
    "            counts[i] = str(round(counts[i]/n *100, 2))+'%'\n",
    "        st.write(counts)  \n",
    "    \n",
    "    #if var is quantitative, print mean, sd and median\n",
    "    else:\n",
    "        mean = round(df[variable].mean(),2)\n",
    "        sd = round(df[variable].std(),2)\n",
    "        median = round(df[variable].median(),2)\n",
    "        st.write(f\"Mean: {mean}, Std: {sd}, Median: {median}\")"
   ]
  }
 ],
 "metadata": {
  "kernelspec": {
   "display_name": "Python 3 (ipykernel)",
   "language": "python",
   "name": "python3"
  },
  "language_info": {
   "codemirror_mode": {
    "name": "ipython",
    "version": 3
   },
   "file_extension": ".py",
   "mimetype": "text/x-python",
   "name": "python",
   "nbconvert_exporter": "python",
   "pygments_lexer": "ipython3",
   "version": "3.9.12"
  }
 },
 "nbformat": 4,
 "nbformat_minor": 5
}
