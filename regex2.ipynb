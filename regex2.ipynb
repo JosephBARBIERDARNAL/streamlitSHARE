{
 "cells": [
  {
   "cell_type": "markdown",
   "id": "6093720e-3285-49a2-b1ea-a5fb533c5e2b",
   "metadata": {},
   "source": [
    "## We are obliged to use different functions (even tough they are similar) according to the waves because the documentation, located in the *\"questionnaire\"* folder, is different according to the waves, which leads our regex functions not to work for all the waves. "
   ]
  },
  {
   "cell_type": "markdown",
   "id": "640de079-bc01-4f83-baac-eef857d61558",
   "metadata": {},
   "source": [
    "<br>\n",
    "<br>\n",
    "\n",
    "> `get_description_12(var_name, text_to_scrap)` is the function that scraps the documentation for wave 1 and 2"
   ]
  },
  {
   "cell_type": "code",
   "execution_count": 1,
   "id": "fca2c549-e06d-4535-8428-e527135a7c55",
   "metadata": {},
   "outputs": [],
   "source": [
    "import re\n",
    "\n",
    "def get_description_12(var_name, text_to_scrap):\n",
    "    \n",
    "    #create a regular expression to match the pattern \"VARIABLE_NAME UPPERCASE_DESCRIPTION\"\n",
    "    regex = r\"\\b\" + re.escape(var_name) + r\"\\b.*?([A-Z][A-Z0-9 ]+)\"\n",
    "    \n",
    "    #use the search method to find the first match in the text\n",
    "    match = re.search(regex, text_to_scrap)\n",
    "    \n",
    "    #if a match was found, return the description\n",
    "    if match:\n",
    "        return match.group(1)\n",
    "    \n",
    "    #if no match was found, try again with a modified variable name\n",
    "    #that removes the letters after the 3 digits\n",
    "    modified_var_name = re.sub(r'(^[A-Z]{2}\\d{3}).*', r'\\1_', var_name)\n",
    "    regex = r\"\\b\" + re.escape(modified_var_name) + r\"\\b.*?([A-Z][A-Z0-9 ]+)\"\n",
    "    match = re.search(regex, text_to_scrap)\n",
    "    if match:\n",
    "        return match.group(1)\n",
    "    \n",
    "    #if no match was found, check if the variable name has the correct format\n",
    "    if not re.match(r'^[A-Z]{2}\\d{3}_?$', var_name):\n",
    "        return \"Impossible to find the name associated with this variable\"\n",
    "    \n",
    "    #if the variable name has the correct format, return none\n",
    "    return None"
   ]
  },
  {
   "cell_type": "markdown",
   "id": "3b7576e3-4f38-47e7-99b6-c8342e30013d",
   "metadata": {},
   "source": [
    "<br>\n",
    "<br>\n",
    "\n",
    "> `get_description_3(var_name, text_to_scrap)` is the function that scraps the documentation for wave 3"
   ]
  },
  {
   "cell_type": "code",
   "execution_count": 2,
   "id": "013a4c0c-254e-419e-9699-c5201d772b3d",
   "metadata": {},
   "outputs": [],
   "source": [
    "import re\n",
    "\n",
    "def get_description_3(var_name, text_to_scrap):\n",
    "    \n",
    "    text_to_scrap = re.sub(r'  ',r' ',text_to_scrap)\n",
    "    \n",
    "    #create a regular expression to match the pattern \"VARIABLE_NAME UPPERCASE_DESCRIPTION\"\n",
    "    modified_var_name = re.sub(r'(^[A-Z]{2}\\d{3}_).*', r'\\1', var_name)\n",
    "    regex = r\"\\b\" + re.escape(var_name) + r\"\\b.*?([A-Z][A-Z0-9 ]+)\"\n",
    "    \n",
    "    #use the search method to find the first match in the text\n",
    "    match = re.search(regex, text_to_scrap)\n",
    "    \n",
    "    #if a match was found, return the description\n",
    "    if match:\n",
    "        return match.group(1)\n",
    "    \n",
    "    #if no match was found, try again with a modified variable name\n",
    "    #that removes the letters after the 3 digits\n",
    "    modified_var_name = re.sub(r'(^[A-Z]{2}\\d{3}).*', r'\\1', var_name)\n",
    "    regex = r\"\\b\" + re.escape(modified_var_name) + r\"\\b.*?([A-Z][A-Z0-9 ]+)\"\n",
    "    match = re.search(regex, text_to_scrap)\n",
    "    if match:\n",
    "        return match.group(1)\n",
    "    \n",
    "    #if no match was found, check if the variable name has the correct format\n",
    "    if not re.match(r'^[A-Z]{2}\\d{3}_?$', var_name):\n",
    "        return \"Impossible to find the name associated with this variable\"\n",
    "    \n",
    "    #if the variable name has the correct format, return none\n",
    "    return \"Impossible to find the name associated with this variable\""
   ]
  },
  {
   "cell_type": "markdown",
   "id": "a816f9d8-a9cb-4623-b6ac-c7c047855ed3",
   "metadata": {},
   "source": [
    "<br>\n",
    "<br>\n",
    "\n",
    "> `get_description_45678(var_name, text_to_scrap)` is the function that scraps the documentation for wave 4, 5, 6, 7 and 8"
   ]
  },
  {
   "cell_type": "code",
   "execution_count": 3,
   "id": "f939e08f-9f35-4e59-9610-8af6b5a53cd8",
   "metadata": {},
   "outputs": [],
   "source": [
    "import re\n",
    "\n",
    "def get_description_45678(var_name, text_to_scrap):\n",
    "    \n",
    "    #check if the variable name has the classic structure\n",
    "    classic_pattern = r'^[A-Z]{2}[0-9]{3}_'\n",
    "    classic_match = re.match(classic_pattern, var_name)\n",
    "    \n",
    "    if classic_match:\n",
    "        #extract the description using a regular expression\n",
    "        var_name = re.sub(r'(^[A-Z]{2}\\d{3}).*', r'\\1_', var_name)\n",
    "        description_pattern = r\"\\b\" + re.escape(var_name) + r\".*?(\\w+)\\s\"\n",
    "        description_match = re.search(description_pattern, text_to_scrap)\n",
    "        if description_match:\n",
    "            return description_match.group(1)\n",
    "        else:\n",
    "            return \"Impossible to find the name associated with this variable\"\n",
    "    \n",
    "    else:\n",
    "        #if the variable name does not have the classic structure\n",
    "        special_pattern = r'^[A-Z]{2}[0-9]{3}'\n",
    "        special_match = re.search(special_pattern, var_name)\n",
    "        if special_match:\n",
    "            # If it does, treat it as if it had an underscore at the end and extract the description\n",
    "            modified_var_name = re.sub(r'(^[A-Z]{2}\\d{3}).*', r'\\1_', var_name)\n",
    "            description_pattern = r\"\\b\" + re.escape(modified_var_name) + r\".*?(\\w+)\\s\"\n",
    "            description_match = re.search(description_pattern, text_to_scrap)\n",
    "            if description_match:\n",
    "                return description_match.group(1)\n",
    "            else:\n",
    "                return \"Impossible to find the name associated with this variable\"\n",
    "        \n",
    "        else:\n",
    "            #if the variable name does not match either pattern, return an error message\n",
    "            return \"Impossible to find the name associated with this variable\""
   ]
  },
  {
   "cell_type": "markdown",
   "id": "9a61efc9-f847-4ba1-816b-726ddeb7ebb9",
   "metadata": {},
   "source": [
    "<br>\n",
    "<br>\n",
    "\n",
    "> `remove_selected()` is a function that removes the pattern \"(SELECTED)\" from a text. In our case, we use it for the documentation of the wave 1 and 2 since this pattern initially prevented us from accessing the full description of the variable in some cases"
   ]
  },
  {
   "cell_type": "code",
   "execution_count": 4,
   "id": "46ed7ed7-0992-4567-ba2c-fb2197c9a532",
   "metadata": {},
   "outputs": [],
   "source": [
    "import re\n",
    "\n",
    "#function that removes the \"(SELECTED)\" pattern from a text\n",
    "def remove_selected(string):\n",
    "    return re.sub(r\"\\(SELECTED\\)\", \"\", string)"
   ]
  },
  {
   "cell_type": "markdown",
   "id": "962b136a-936c-4194-a481-11a271f274c6",
   "metadata": {},
   "source": [
    "<br>\n",
    "<br>\n",
    "\n",
    "> `extract_text_from_pdf()` takes a pdf file as argument and returns the text contained"
   ]
  },
  {
   "cell_type": "code",
   "execution_count": 5,
   "id": "3a25e9cd-f262-45a0-80b7-036c25e8a5c2",
   "metadata": {},
   "outputs": [],
   "source": [
    "import PyPDF2\n",
    "\n",
    "def extract_text_from_pdf(pdf_file):\n",
    "    \n",
    "    #open the PDF file\n",
    "    with open(pdf_file, \"rb\") as file:\n",
    "        \n",
    "        #create a PDF object\n",
    "        pdf = PyPDF2.PdfReader(file)\n",
    "        \n",
    "        #iterate through each page and extract the text\n",
    "        text = \"\"\n",
    "        for page in pdf.pages:\n",
    "            text += page.extract_text()\n",
    "        \n",
    "        #return the text\n",
    "        return text"
   ]
  },
  {
   "cell_type": "markdown",
   "id": "b6b27934-6862-4504-b0fc-a350e3a93533",
   "metadata": {},
   "source": [
    "<br>\n",
    "<br>\n",
    "\n",
    "> `change_case()` ensures that the first letter is in upper case and others in lower\n",
    "depending on the wave since they don't have same syntax"
   ]
  },
  {
   "cell_type": "code",
   "execution_count": 6,
   "id": "f6a0fb16-d0a2-48ea-8b3c-5218c9ecf24a",
   "metadata": {},
   "outputs": [],
   "source": [
    "def change_case(string, wave):\n",
    "    if wave in [1,2,3]:\n",
    "        return string[0].upper() + string[1:].lower()\n",
    "    else:\n",
    "        return string"
   ]
  }
 ],
 "metadata": {
  "kernelspec": {
   "display_name": "Python 3 (ipykernel)",
   "language": "python",
   "name": "python3"
  },
  "language_info": {
   "codemirror_mode": {
    "name": "ipython",
    "version": 3
   },
   "file_extension": ".py",
   "mimetype": "text/x-python",
   "name": "python",
   "nbconvert_exporter": "python",
   "pygments_lexer": "ipython3",
   "version": "3.9.12"
  }
 },
 "nbformat": 4,
 "nbformat_minor": 5
}
