{
 "cells": [
  {
   "cell_type": "code",
   "execution_count": 3,
   "id": "9578fd8a-4413-4229-96bb-49bcaafcbf75",
   "metadata": {},
   "outputs": [],
   "source": [
    "import numpy as np\n",
    "import pandas as pd\n",
    "\n",
    "def remove_mc(df, var):\n",
    "\n",
    "    #the Missing Codes, according to the documentation + a specific case at the end\n",
    "    to_remove = [\"Don't know\",\n",
    "                 \"Refusal\",\n",
    "                 \"Implausible value/suspected wrong\",\n",
    "                 \"Implausible/suspected wrong\",\n",
    "                 \"Not codable\",\n",
    "                 \"Not answered\",\n",
    "                 \"Not yet coded\",\n",
    "                 \"Not applicable\",\n",
    "                 \"Not applicable (not yet part of sample)\",\n",
    "                 \"Not applicable (no participation in this wave)\",\n",
    "                 \"Not applicable (respondent was not listed as household member in this wave)\",\n",
    "                 \"Not applicable (respondent has an End-of-Life interview in previous waves)\",\n",
    "                 \"Not applicable (no main interview done)\",\n",
    "                 \"Not applicable (other reason)\",\n",
    "                 \"Not applicable (missing by design)\",\n",
    "                 \"Still living at residence\"]\n",
    "    \n",
    "    #make the results more intuitive\n",
    "    to_change = [\"Selected\", \"Not selected\"]\n",
    "    \n",
    "    df[var] = df[var].replace(to_remove, np.NaN)\n",
    "    df[var] = df[var].replace(to_change, [\"Yes\", \"No\"])\n",
    "    \n",
    "    return df[var]"
   ]
  },
  {
   "cell_type": "markdown",
   "id": "1ff20921-3d49-4f46-b301-4061994be5b0",
   "metadata": {},
   "source": [
    "<br>\n",
    "<br>\n",
    "\n",
    "> `qual_to_quant(df, variable)` because all variables are considered as categorical, transforms, if possible, a variable into a numeric one and uses the `remove_mc(df, variable)` before from above. If it can't, juste return the variable cleaned"
   ]
  },
  {
   "cell_type": "code",
   "execution_count": 2,
   "id": "916dd8a0-ccd7-4b07-bc44-3152b73fc172",
   "metadata": {},
   "outputs": [],
   "source": [
    "import pandas as pd\n",
    "import numpy as np\n",
    "import streamlit as st\n",
    "\n",
    "def qual_to_quant(df, variable):\n",
    "    \n",
    "    #remove the missing codes from above\n",
    "    df[variable] = remove_mc(df, variable)\n",
    "    \n",
    "    #if possible, convert the variable to a numeric\n",
    "    try: \n",
    "        df[variable] = df[variable].astype(\"float\")\n",
    "    except ValueError:\n",
    "        pass\n",
    "    \n",
    "    return df[variable]"
   ]
  }
 ],
 "metadata": {
  "kernelspec": {
   "display_name": "Python 3 (ipykernel)",
   "language": "python",
   "name": "python3"
  },
  "language_info": {
   "codemirror_mode": {
    "name": "ipython",
    "version": 3
   },
   "file_extension": ".py",
   "mimetype": "text/x-python",
   "name": "python",
   "nbconvert_exporter": "python",
   "pygments_lexer": "ipython3",
   "version": "3.9.12"
  }
 },
 "nbformat": 4,
 "nbformat_minor": 5
}
