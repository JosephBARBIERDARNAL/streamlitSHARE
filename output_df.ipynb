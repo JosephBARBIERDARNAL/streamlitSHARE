{
 "cells": [
  {
   "cell_type": "markdown",
   "id": "dd9b930a-28fc-4387-aa97-9a63b51a1372",
   "metadata": {},
   "source": [
    "## Fonction qui prend en argument une liste de nom de variables et une vague, et retourne un dataset de ces colonnes en .csv"
   ]
  },
  {
   "cell_type": "code",
   "execution_count": 1,
   "id": "acb773c5-9fa5-408c-a946-a54a5e206b8c",
   "metadata": {},
   "outputs": [],
   "source": [
    "import pandas as pd\n",
    "\n",
    "def list_to_df(wave, variables):\n",
    "    PATH = f\"/Users/josephbarbier/Desktop/PROJETpython/wave/wave{str(wave)}\"\n",
    "    df = pd.read_csv(PATH, low_memory=False, usecols=variables)\n",
    "    return df"
   ]
  },
  {
   "cell_type": "code",
   "execution_count": 6,
   "id": "fa5a2cc0-a8d5-4c30-8882-7431375d300d",
   "metadata": {},
   "outputs": [
    {
     "data": {
      "text/plain": [
       "['hhelo', 'mergeid', 'country']"
      ]
     },
     "execution_count": 6,
     "metadata": {},
     "output_type": "execute_result"
    }
   ],
   "source": [
    "list_var = [\"hhelo\"]\n",
    "list_var.extend([\"mergeid\",\"country\"])\n",
    "list_var"
   ]
  }
 ],
 "metadata": {
  "kernelspec": {
   "display_name": "Python 3 (ipykernel)",
   "language": "python",
   "name": "python3"
  },
  "language_info": {
   "codemirror_mode": {
    "name": "ipython",
    "version": 3
   },
   "file_extension": ".py",
   "mimetype": "text/x-python",
   "name": "python",
   "nbconvert_exporter": "python",
   "pygments_lexer": "ipython3",
   "version": "3.9.12"
  }
 },
 "nbformat": 4,
 "nbformat_minor": 5
}
