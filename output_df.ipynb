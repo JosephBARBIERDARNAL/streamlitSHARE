{
 "cells": [
  {
   "cell_type": "markdown",
   "id": "dd9b930a-28fc-4387-aa97-9a63b51a1372",
   "metadata": {},
   "source": [
    "## Fonction qui prend en argument une liste de nom de variables et une vague, et retourne un dataset de ces colonnes en .csv"
   ]
  },
  {
   "cell_type": "code",
   "execution_count": 15,
   "id": "acb773c5-9fa5-408c-a946-a54a5e206b8c",
   "metadata": {},
   "outputs": [
    {
     "data": {
      "text/html": [
       "<div>\n",
       "<style scoped>\n",
       "    .dataframe tbody tr th:only-of-type {\n",
       "        vertical-align: middle;\n",
       "    }\n",
       "\n",
       "    .dataframe tbody tr th {\n",
       "        vertical-align: top;\n",
       "    }\n",
       "\n",
       "    .dataframe thead th {\n",
       "        text-align: right;\n",
       "    }\n",
       "</style>\n",
       "<table border=\"1\" class=\"dataframe\">\n",
       "  <thead>\n",
       "    <tr style=\"text-align: right;\">\n",
       "      <th></th>\n",
       "      <th>mergeid</th>\n",
       "      <th>hhid3</th>\n",
       "      <th>country</th>\n",
       "    </tr>\n",
       "  </thead>\n",
       "  <tbody>\n",
       "    <tr>\n",
       "      <th>0</th>\n",
       "      <td>AT-002132-01</td>\n",
       "      <td>NaN</td>\n",
       "      <td>NaN</td>\n",
       "    </tr>\n",
       "    <tr>\n",
       "      <th>1</th>\n",
       "      <td>AT-004855-01</td>\n",
       "      <td>NaN</td>\n",
       "      <td>NaN</td>\n",
       "    </tr>\n",
       "    <tr>\n",
       "      <th>2</th>\n",
       "      <td>AT-010904-01</td>\n",
       "      <td>NaN</td>\n",
       "      <td>NaN</td>\n",
       "    </tr>\n",
       "    <tr>\n",
       "      <th>3</th>\n",
       "      <td>AT-011129-01</td>\n",
       "      <td>NaN</td>\n",
       "      <td>NaN</td>\n",
       "    </tr>\n",
       "    <tr>\n",
       "      <th>4</th>\n",
       "      <td>AT-056493-01</td>\n",
       "      <td>NaN</td>\n",
       "      <td>NaN</td>\n",
       "    </tr>\n",
       "  </tbody>\n",
       "</table>\n",
       "</div>"
      ],
      "text/plain": [
       "        mergeid hhid3 country\n",
       "0  AT-002132-01   NaN     NaN\n",
       "1  AT-004855-01   NaN     NaN\n",
       "2  AT-010904-01   NaN     NaN\n",
       "3  AT-011129-01   NaN     NaN\n",
       "4  AT-056493-01   NaN     NaN"
      ]
     },
     "execution_count": 15,
     "metadata": {},
     "output_type": "execute_result"
    }
   ],
   "source": [
    "import pandas as pd\n",
    "\n",
    "def list_to_df(wave, variables):\n",
    "    PATH = f\"/Users/josephbarbier/Desktop/PROJETpython/wave/wave{str(wave)}.csv\"\n",
    "    df = pd.read_csv(PATH, low_memory=False, usecols=variables)\n",
    "    return df.head()\n",
    "\n",
    "var = [\"mergeid\",\"hhid3\", \"country\"]\n",
    "list_to_df(wave=3, variables=var)"
   ]
  }
 ],
 "metadata": {
  "kernelspec": {
   "display_name": "Python 3 (ipykernel)",
   "language": "python",
   "name": "python3"
  },
  "language_info": {
   "codemirror_mode": {
    "name": "ipython",
    "version": 3
   },
   "file_extension": ".py",
   "mimetype": "text/x-python",
   "name": "python",
   "nbconvert_exporter": "python",
   "pygments_lexer": "ipython3",
   "version": "3.9.12"
  }
 },
 "nbformat": 4,
 "nbformat_minor": 5
}
