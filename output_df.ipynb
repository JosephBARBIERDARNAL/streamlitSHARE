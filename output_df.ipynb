{
 "cells": [
  {
   "cell_type": "markdown",
   "id": "dd9b930a-28fc-4387-aa97-9a63b51a1372",
   "metadata": {},
   "source": [
    "> `list_to_df`  takes as argument a list of variable names and a wave, and returns a dataset of these columns in a csv file"
   ]
  },
  {
   "cell_type": "code",
   "execution_count": 16,
   "id": "acb773c5-9fa5-408c-a946-a54a5e206b8c",
   "metadata": {},
   "outputs": [],
   "source": [
    "import pandas as pd\n",
    "\n",
    "def list_to_df(wave, variables, path):\n",
    "    file = f\"{path}wave{wave}\"\n",
    "    df = pd.read_csv(file, low_memory=False, usecols=variables)\n",
    "    return df"
   ]
  },
  {
   "cell_type": "code",
   "execution_count": 15,
   "id": "a47d0999-6774-4ed8-b6e6-847367253ba6",
   "metadata": {},
   "outputs": [
    {
     "name": "stdout",
     "output_type": "stream",
     "text": [
      "/Users/josephbarbier/Desktop/PROJETpython/wave1\n"
     ]
    },
    {
     "data": {
      "text/html": [
       "<div>\n",
       "<style scoped>\n",
       "    .dataframe tbody tr th:only-of-type {\n",
       "        vertical-align: middle;\n",
       "    }\n",
       "\n",
       "    .dataframe tbody tr th {\n",
       "        vertical-align: top;\n",
       "    }\n",
       "\n",
       "    .dataframe thead th {\n",
       "        text-align: right;\n",
       "    }\n",
       "</style>\n",
       "<table border=\"1\" class=\"dataframe\">\n",
       "  <thead>\n",
       "    <tr style=\"text-align: right;\">\n",
       "      <th></th>\n",
       "      <th>mergeid</th>\n",
       "      <th>hhid1</th>\n",
       "      <th>mergeidp1</th>\n",
       "      <th>coupleid1</th>\n",
       "      <th>country</th>\n",
       "      <th>language</th>\n",
       "    </tr>\n",
       "  </thead>\n",
       "  <tbody>\n",
       "    <tr>\n",
       "      <th>0</th>\n",
       "      <td>AT-000327-01</td>\n",
       "      <td>AT-000327-A</td>\n",
       "      <td>AT-000327-02</td>\n",
       "      <td>AT-000327-01-02</td>\n",
       "      <td>Austria</td>\n",
       "      <td>German (at)</td>\n",
       "    </tr>\n",
       "    <tr>\n",
       "      <th>1</th>\n",
       "      <td>AT-000327-02</td>\n",
       "      <td>AT-000327-A</td>\n",
       "      <td>AT-000327-01</td>\n",
       "      <td>AT-000327-01-02</td>\n",
       "      <td>Austria</td>\n",
       "      <td>German (at)</td>\n",
       "    </tr>\n",
       "    <tr>\n",
       "      <th>2</th>\n",
       "      <td>AT-001816-01</td>\n",
       "      <td>AT-001816-A</td>\n",
       "      <td>AT-001816-02</td>\n",
       "      <td>AT-001816-01-02</td>\n",
       "      <td>Austria</td>\n",
       "      <td>German (at)</td>\n",
       "    </tr>\n",
       "    <tr>\n",
       "      <th>3</th>\n",
       "      <td>AT-001816-02</td>\n",
       "      <td>AT-001816-A</td>\n",
       "      <td>AT-001816-01</td>\n",
       "      <td>AT-001816-01-02</td>\n",
       "      <td>Austria</td>\n",
       "      <td>German (at)</td>\n",
       "    </tr>\n",
       "    <tr>\n",
       "      <th>4</th>\n",
       "      <td>AT-002132-01</td>\n",
       "      <td>AT-002132-A</td>\n",
       "      <td>NaN</td>\n",
       "      <td>NaN</td>\n",
       "      <td>Austria</td>\n",
       "      <td>German (at)</td>\n",
       "    </tr>\n",
       "  </tbody>\n",
       "</table>\n",
       "</div>"
      ],
      "text/plain": [
       "        mergeid        hhid1     mergeidp1        coupleid1  country  \\\n",
       "0  AT-000327-01  AT-000327-A  AT-000327-02  AT-000327-01-02  Austria   \n",
       "1  AT-000327-02  AT-000327-A  AT-000327-01  AT-000327-01-02  Austria   \n",
       "2  AT-001816-01  AT-001816-A  AT-001816-02  AT-001816-01-02  Austria   \n",
       "3  AT-001816-02  AT-001816-A  AT-001816-01  AT-001816-01-02  Austria   \n",
       "4  AT-002132-01  AT-002132-A           NaN              NaN  Austria   \n",
       "\n",
       "      language  \n",
       "0  German (at)  \n",
       "1  German (at)  \n",
       "2  German (at)  \n",
       "3  German (at)  \n",
       "4  German (at)  "
      ]
     },
     "execution_count": 15,
     "metadata": {},
     "output_type": "execute_result"
    }
   ],
   "source": [
    "var = [\"mergeid\",\"hhid1\",\"mergeidp1\",\"coupleid1\",\"country\",\"language\"]\n",
    "path = \"/Users/josephbarbier/Desktop/PROJETpython/\"\n",
    "list_to_df(1, var, path)"
   ]
  }
 ],
 "metadata": {
  "kernelspec": {
   "display_name": "Python 3 (ipykernel)",
   "language": "python",
   "name": "python3"
  },
  "language_info": {
   "codemirror_mode": {
    "name": "ipython",
    "version": 3
   },
   "file_extension": ".py",
   "mimetype": "text/x-python",
   "name": "python",
   "nbconvert_exporter": "python",
   "pygments_lexer": "ipython3",
   "version": "3.9.12"
  }
 },
 "nbformat": 4,
 "nbformat_minor": 5
}
