{
 "cells": [
  {
   "cell_type": "markdown",
   "id": "dd9b930a-28fc-4387-aa97-9a63b51a1372",
   "metadata": {},
   "source": [
    "> `list_to_df`  takes as argument a list of variable names and a wave, and returns a dataset of these columns in a csv file"
   ]
  },
  {
   "cell_type": "code",
   "execution_count": 5,
   "id": "acb773c5-9fa5-408c-a946-a54a5e206b8c",
   "metadata": {},
   "outputs": [],
   "source": [
    "import pandas as pd\n",
    "\n",
    "def list_to_df(wave, variables, path):\n",
    "    PATH = f\"{path}wave/wave{str(wave)}\"\n",
    "    df = pd.read_csv(PATH, low_memory=False, usecols=variables)\n",
    "    return df"
   ]
  }
 ],
 "metadata": {
  "kernelspec": {
   "display_name": "Python 3 (ipykernel)",
   "language": "python",
   "name": "python3"
  },
  "language_info": {
   "codemirror_mode": {
    "name": "ipython",
    "version": 3
   },
   "file_extension": ".py",
   "mimetype": "text/x-python",
   "name": "python",
   "nbconvert_exporter": "python",
   "pygments_lexer": "ipython3",
   "version": "3.9.12"
  }
 },
 "nbformat": 4,
 "nbformat_minor": 5
}
