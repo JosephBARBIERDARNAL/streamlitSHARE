{
 "cells": [
  {
   "cell_type": "code",
   "execution_count": 1,
   "id": "fca2c549-e06d-4535-8428-e527135a7c55",
   "metadata": {},
   "outputs": [],
   "source": [
    "import re\n",
    "\n",
    "def extract_description(variable_name, text):\n",
    "    \n",
    "    #create a regular expression to match the pattern\n",
    "    regex = r\"\\b\" + re.escape(variable_name) + r\"\\b.*?([A-Z][A-Z0-9 ]+)\"\n",
    "    \n",
    "    #use the finditer method to search for all matches in the text\n",
    "    matches = re.finditer(regex, text, re.DOTALL)\n",
    "    \n",
    "    #iterate through the matches and return the description for the first match\n",
    "    for match in matches:\n",
    "        return match.group(1)\n",
    "    \n",
    "    #if no matches are found, return None\n",
    "    return None"
   ]
  },
  {
   "cell_type": "code",
   "execution_count": null,
   "id": "3a25e9cd-f262-45a0-80b7-036c25e8a5c2",
   "metadata": {},
   "outputs": [],
   "source": [
    "import PyPDF2\n",
    "\n",
    "def extract_text_from_pdf(pdf_file):\n",
    "    \n",
    "    #open the PDF file\n",
    "    with open(pdf_file, \"rb\") as file:\n",
    "        \n",
    "        #create a PDF object\n",
    "        pdf = PyPDF2.PdfReader(file)\n",
    "        \n",
    "        #iterate through each page and extract the text\n",
    "        text = \"\"\n",
    "        for page in pdf.pages:\n",
    "            text += page.extract_text()\n",
    "        \n",
    "        # Return the text\n",
    "        return text"
   ]
  },
  {
   "cell_type": "code",
   "execution_count": 13,
   "id": "5b7f2c42-26b1-4cd0-906f-4520c6556f24",
   "metadata": {},
   "outputs": [
    {
     "data": {
      "text/plain": [
       "'GENDER OF RESPONDENT '"
      ]
     },
     "execution_count": 13,
     "metadata": {},
     "output_type": "execute_result"
    }
   ],
   "source": [
    "text = extract_text_from_pdf(\"test.pdf\")\n",
    "extract_description(variable_name=\"ST011\", text=text)"
   ]
  }
 ],
 "metadata": {
  "kernelspec": {
   "display_name": "Python 3 (ipykernel)",
   "language": "python",
   "name": "python3"
  },
  "language_info": {
   "codemirror_mode": {
    "name": "ipython",
    "version": 3
   },
   "file_extension": ".py",
   "mimetype": "text/x-python",
   "name": "python",
   "nbconvert_exporter": "python",
   "pygments_lexer": "ipython3",
   "version": "3.9.12"
  }
 },
 "nbformat": 4,
 "nbformat_minor": 5
}
