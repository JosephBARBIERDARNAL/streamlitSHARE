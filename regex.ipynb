{
 "cells": [
  {
   "cell_type": "code",
   "execution_count": 52,
   "id": "fca2c549-e06d-4535-8428-e527135a7c55",
   "metadata": {},
   "outputs": [],
   "source": [
    "import re\n",
    "\n",
    "def extract_description(variable_name, text_to_scrap):\n",
    "    \n",
    "    # Create a regular expression to match the pattern \"VARIABLE_NAME UPPERCASE_DESCRIPTION\"\n",
    "    regex = r\"\\b\" + re.escape(variable_name) + r\"\\b.*?([A-Z][A-Z0-9 ]+)\"\n",
    "    \n",
    "    # Use the search method to find the first match in the text\n",
    "    match = re.search(regex, text_to_scrap)\n",
    "    \n",
    "    # If a match was found, return the description\n",
    "    if match:\n",
    "        # If \"(SELECTED)\" is in the description, remove it and return the modified description\n",
    "        if \"(SELECTED)\" in match.group(1):\n",
    "            return re.sub(r'\\s*\\(SELECTED\\)', '', description)\n",
    "        return match.group(1)\n",
    "    \n",
    "    # If no match was found, try again with a modified variable name\n",
    "    # that removes the letters after the 3 digits\n",
    "    modified_variable_name = re.sub(r'(^[A-Z]{2}\\d{3}).*', r'\\1_', variable_name)\n",
    "    regex = r\"\\b\" + re.escape(modified_variable_name) + r\"\\b.*?([A-Z][A-Z0-9 ]+)\"\n",
    "    match = re.search(regex, text_to_scrap)\n",
    "    if match:\n",
    "        return match.group(1)\n",
    "    \n",
    "    # If no match was found, check if the variable name has the correct format\n",
    "    if not re.match(r'^[A-Z]{2}\\d{3}_?$', variable_name):\n",
    "        return \"This variable does not have a name associated with it.\"\n",
    "    \n",
    "    # If the variable name has the correct format, return None\n",
    "    return None"
   ]
  },
  {
   "cell_type": "code",
   "execution_count": null,
   "id": "46ed7ed7-0992-4567-ba2c-fb2197c9a532",
   "metadata": {},
   "outputs": [],
   "source": []
  },
  {
   "cell_type": "code",
   "execution_count": 40,
   "id": "3a25e9cd-f262-45a0-80b7-036c25e8a5c2",
   "metadata": {},
   "outputs": [],
   "source": [
    "import PyPDF2\n",
    "\n",
    "def extract_text_from_pdf(pdf_file):\n",
    "    \n",
    "    #open the PDF file\n",
    "    with open(pdf_file, \"rb\") as file:\n",
    "        \n",
    "        #create a PDF object\n",
    "        pdf = PyPDF2.PdfReader(file)\n",
    "        \n",
    "        #iterate through each page and extract the text\n",
    "        text = \"\"\n",
    "        for page in pdf.pages:\n",
    "            text += page.extract_text()\n",
    "        \n",
    "        # Return the text\n",
    "        return text"
   ]
  },
  {
   "cell_type": "code",
   "execution_count": 51,
   "id": "f6a0fb16-d0a2-48ea-8b3c-5218c9ecf24a",
   "metadata": {},
   "outputs": [],
   "source": [
    "def change_case(string):\n",
    "    return string[0].upper() + string[1:].lower()"
   ]
  }
 ],
 "metadata": {
  "kernelspec": {
   "display_name": "Python 3 (ipykernel)",
   "language": "python",
   "name": "python3"
  },
  "language_info": {
   "codemirror_mode": {
    "name": "ipython",
    "version": 3
   },
   "file_extension": ".py",
   "mimetype": "text/x-python",
   "name": "python",
   "nbconvert_exporter": "python",
   "pygments_lexer": "ipython3",
   "version": "3.9.12"
  }
 },
 "nbformat": 4,
 "nbformat_minor": 5
}
