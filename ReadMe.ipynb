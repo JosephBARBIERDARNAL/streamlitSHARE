{
 "cells": [
  {
   "cell_type": "markdown",
   "id": "047652ca-e417-41f2-be73-f473b38be43d",
   "metadata": {},
   "source": [
    "### Run the following command in your terminal in order to open the app\n",
    "\n",
    "In the following example, the app is in the folder named `PROJETpython` in my `Desktop`:\n",
    "\n",
    "`streamlit run Desktop/PROJETpython/app.py --theme.backgroundColor=#1e4d69 --theme.primaryColor=#000000 --theme.textColor=#ffffff --theme.secondaryBackgroundColor=#41232c`\n",
    "\n",
    "`streamlit run Desktop/PROJETpython/app.py` for the default theme\n",
    "\n",
    "<br>\n",
    "\n",
    "### Description of the project\n",
    "\n",
    "Statistics and data manipulation is indispensable in science, and the social sciences are no exception. The data from the SHARE study most likely contain a significant amount of relevant information, especially because of its size, duration, and overall scope. However, it may be technically complex to access the desired data. Indeed, in total, the data are spread over 16 years in more than 200 datasets and 25,000 variables studied for as many as 150,000 individuals. **The objective here is to facilitate as much as possible these technical constraints for social science researchers**.\n",
    "\n",
    "To do so, we propose a streamlit application that allows to naturally select the variables and the period of interest, merge the results and **return a simple csv file whose data will have been pre-cleaned**. Also, we propose the results of some descriptive statistics in order to give possible information on the relevance of certain variables, as well as the possibility of carrying out a first model, relatively simplistic, of the selected variables. \n",
    "\n",
    "The current project is not totally robust and can sometimes be quite slow / returns bug. Originally intended as a University project, we plan to continue developing and improving the application after the rendering date. If you have any suggestions or reports, please feel free to contact us at joseph.barbierdarnal@gmail.com. \n",
    "\n",
    "\n",
    "\n",
    "\n",
    "<br>\n",
    "\n",
    "### Versions of the packages used\n",
    "\n",
    "- pandas                    1.5.2\n",
    "- matplotlib                3.5.1\n",
    "- numpy                     1.21.5\n",
    "- regex                     2022.3.15\n",
    "- scikit-learn              1.1.1\n",
    "- scipy                     1.7.3\n",
    "- scrapy                    2.6.1\n",
    "- streamlit                 1.16.0\n",
    "\n",
    "\n",
    "If you haven't did it, remember to install streamlit with the following command:\n",
    "\n",
    "`pip install streamlit`\n",
    "\n",
    "<br>\n",
    "\n",
    "### Working directory problems\n",
    "\n",
    "It is possible, a priori, that there are working directory problems. Unfortunately, despite our efforts, you may have to change the working directory manually in the notebooks. Here are the places where the working directory is used:\n",
    "\n",
    "\n",
    "- `cleaning.ipynb` (this notebook is not directly used in the app: it shouldn't be any source of problem except if you re-run the notebook without changing the path)\n",
    "- `get_variables.ipynb`\n",
    "- `output_df.ipynb`\n",
    "- `app.py`"
   ]
  }
 ],
 "metadata": {
  "kernelspec": {
   "display_name": "Python 3 (ipykernel)",
   "language": "python",
   "name": "python3"
  },
  "language_info": {
   "codemirror_mode": {
    "name": "ipython",
    "version": 3
   },
   "file_extension": ".py",
   "mimetype": "text/x-python",
   "name": "python",
   "nbconvert_exporter": "python",
   "pygments_lexer": "ipython3",
   "version": "3.9.12"
  }
 },
 "nbformat": 4,
 "nbformat_minor": 5
}
